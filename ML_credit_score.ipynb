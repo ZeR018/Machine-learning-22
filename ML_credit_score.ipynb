{
  "nbformat": 4,
  "nbformat_minor": 0,
  "metadata": {
    "colab": {
      "provenance": []
    },
    "kernelspec": {
      "name": "python3",
      "display_name": "Python 3"
    },
    "language_info": {
      "name": "python"
    }
  },
  "cells": [
    {
      "cell_type": "markdown",
      "source": [
        "## **Постановка задачи**\n",
        "\n",
        "Вы работаете специалистом по обработке данных в глобальной финансовой компании. На протяжении многих лет компания собирала основные банковские реквизиты и собирала много информации, связанной с кредитом. Руководство хочет создать интеллектуальную систему для разделения людей на группы кредитных баллов, чтобы уменьшить ручные усилия.\n",
        "\n",
        "## **Задача**\n",
        "\n",
        "Учитывая информацию, связанную с кредитом человека, создайте модель машинного обучения, которая может классифицировать кредитный рейтинг."
      ],
      "metadata": {
        "id": "LqiPJlxp_EOr"
      }
    },
    {
      "cell_type": "code",
      "execution_count": null,
      "metadata": {
        "id": "x4zxpOGe7UNn"
      },
      "outputs": [],
      "source": [
        "import numpy as np\n",
        "import matplotlib.pyplot as plt\n",
        "import pandas as pd\n",
        "%matplotlib inline"
      ]
    },
    {
      "cell_type": "code",
      "source": [
        "from pydrive.auth import GoogleAuth\n",
        "from pydrive.drive import GoogleDrive\n",
        "from google.colab import auth\n",
        "from oauth2client.client import GoogleCredentials\n",
        "  \n",
        "  \n",
        "# Authenticate and create the PyDrive client.\n",
        "auth.authenticate_user()\n",
        "gauth = GoogleAuth()\n",
        "gauth.credentials = GoogleCredentials.get_application_default()\n",
        "drive = GoogleDrive(gauth)"
      ],
      "metadata": {
        "id": "lkrK_Epc7fwJ"
      },
      "execution_count": null,
      "outputs": []
    },
    {
      "cell_type": "code",
      "source": [
        "link = \"https://drive.google.com/file/d/1UdeTnhKwPIq0so9BUSvD4Ngf47nrJVcY/view?usp=sharing\"\n",
        "\n",
        "id = link.split(\"/\")[-2]\n",
        "  \n",
        "downloaded = drive.CreateFile({\"id\":id}) \n",
        "downloaded.GetContentFile(\"train.csv\")  \n",
        "  \n",
        "df = pd.read_csv(\"train.csv\")\n",
        "df"
      ],
      "metadata": {
        "id": "D6Rb-33B8uoG",
        "colab": {
          "base_uri": "https://localhost:8080/",
          "height": 871
        },
        "outputId": "5107694c-6b81-4766-a4ff-2cbe0315075e"
      },
      "execution_count": null,
      "outputs": [
        {
          "output_type": "stream",
          "name": "stderr",
          "text": [
            "/usr/local/lib/python3.8/dist-packages/IPython/core/interactiveshell.py:3326: DtypeWarning: Columns (26) have mixed types.Specify dtype option on import or set low_memory=False.\n",
            "  exec(code_obj, self.user_global_ns, self.user_ns)\n"
          ]
        },
        {
          "output_type": "execute_result",
          "data": {
            "text/plain": [
              "            ID Customer_ID     Month           Name   Age          SSN  \\\n",
              "0       0x1602   CUS_0xd40   January  Aaron Maashoh    23  821-00-0265   \n",
              "1       0x1603   CUS_0xd40  February  Aaron Maashoh    23  821-00-0265   \n",
              "2       0x1604   CUS_0xd40     March  Aaron Maashoh  -500  821-00-0265   \n",
              "3       0x1605   CUS_0xd40     April  Aaron Maashoh    23  821-00-0265   \n",
              "4       0x1606   CUS_0xd40       May  Aaron Maashoh    23  821-00-0265   \n",
              "...        ...         ...       ...            ...   ...          ...   \n",
              "99995  0x25fe9  CUS_0x942c     April          Nicks    25  078-73-5990   \n",
              "99996  0x25fea  CUS_0x942c       May          Nicks    25  078-73-5990   \n",
              "99997  0x25feb  CUS_0x942c      June          Nicks    25  078-73-5990   \n",
              "99998  0x25fec  CUS_0x942c      July          Nicks    25  078-73-5990   \n",
              "99999  0x25fed  CUS_0x942c    August          Nicks    25  078-73-5990   \n",
              "\n",
              "      Occupation Annual_Income  Monthly_Inhand_Salary  Num_Bank_Accounts  ...  \\\n",
              "0      Scientist      19114.12            1824.843333                  3  ...   \n",
              "1      Scientist      19114.12                    NaN                  3  ...   \n",
              "2      Scientist      19114.12                    NaN                  3  ...   \n",
              "3      Scientist      19114.12                    NaN                  3  ...   \n",
              "4      Scientist      19114.12            1824.843333                  3  ...   \n",
              "...          ...           ...                    ...                ...  ...   \n",
              "99995   Mechanic      39628.99            3359.415833                  4  ...   \n",
              "99996   Mechanic      39628.99            3359.415833                  4  ...   \n",
              "99997   Mechanic      39628.99            3359.415833                  4  ...   \n",
              "99998   Mechanic      39628.99            3359.415833                  4  ...   \n",
              "99999   Mechanic     39628.99_            3359.415833                  4  ...   \n",
              "\n",
              "       Credit_Mix  Outstanding_Debt Credit_Utilization_Ratio  \\\n",
              "0               _            809.98                26.822620   \n",
              "1            Good            809.98                31.944960   \n",
              "2            Good            809.98                28.609352   \n",
              "3            Good            809.98                31.377862   \n",
              "4            Good            809.98                24.797347   \n",
              "...           ...               ...                      ...   \n",
              "99995           _            502.38                34.663572   \n",
              "99996           _            502.38                40.565631   \n",
              "99997        Good            502.38                41.255522   \n",
              "99998        Good            502.38                33.638208   \n",
              "99999        Good            502.38                34.192463   \n",
              "\n",
              "           Credit_History_Age  Payment_of_Min_Amount Total_EMI_per_month  \\\n",
              "0       22 Years and 1 Months                     No           49.574949   \n",
              "1                         NaN                     No           49.574949   \n",
              "2       22 Years and 3 Months                     No           49.574949   \n",
              "3       22 Years and 4 Months                     No           49.574949   \n",
              "4       22 Years and 5 Months                     No           49.574949   \n",
              "...                       ...                    ...                 ...   \n",
              "99995   31 Years and 6 Months                     No           35.104023   \n",
              "99996   31 Years and 7 Months                     No           35.104023   \n",
              "99997   31 Years and 8 Months                     No           35.104023   \n",
              "99998   31 Years and 9 Months                     No           35.104023   \n",
              "99999  31 Years and 10 Months                     No           35.104023   \n",
              "\n",
              "      Amount_invested_monthly                 Payment_Behaviour  \\\n",
              "0           80.41529543900253   High_spent_Small_value_payments   \n",
              "1          118.28022162236736    Low_spent_Large_value_payments   \n",
              "2             81.699521264648   Low_spent_Medium_value_payments   \n",
              "3           199.4580743910713    Low_spent_Small_value_payments   \n",
              "4          41.420153086217326  High_spent_Medium_value_payments   \n",
              "...                       ...                               ...   \n",
              "99995       60.97133255718485   High_spent_Large_value_payments   \n",
              "99996       54.18595028760385  High_spent_Medium_value_payments   \n",
              "99997       24.02847744864441   High_spent_Large_value_payments   \n",
              "99998      251.67258219721603    Low_spent_Large_value_payments   \n",
              "99999       167.1638651610451                            !@9#%8   \n",
              "\n",
              "          Monthly_Balance Credit_Score  \n",
              "0      312.49408867943663         Good  \n",
              "1      284.62916249607184         Good  \n",
              "2       331.2098628537912         Good  \n",
              "3      223.45130972736786         Good  \n",
              "4      341.48923103222177         Good  \n",
              "...                   ...          ...  \n",
              "99995          479.866228         Poor  \n",
              "99996           496.65161         Poor  \n",
              "99997          516.809083         Poor  \n",
              "99998          319.164979     Standard  \n",
              "99999          393.673696         Poor  \n",
              "\n",
              "[100000 rows x 28 columns]"
            ],
            "text/html": [
              "\n",
              "  <div id=\"df-6d346f95-2340-4b6b-bf70-eaca51175575\">\n",
              "    <div class=\"colab-df-container\">\n",
              "      <div>\n",
              "<style scoped>\n",
              "    .dataframe tbody tr th:only-of-type {\n",
              "        vertical-align: middle;\n",
              "    }\n",
              "\n",
              "    .dataframe tbody tr th {\n",
              "        vertical-align: top;\n",
              "    }\n",
              "\n",
              "    .dataframe thead th {\n",
              "        text-align: right;\n",
              "    }\n",
              "</style>\n",
              "<table border=\"1\" class=\"dataframe\">\n",
              "  <thead>\n",
              "    <tr style=\"text-align: right;\">\n",
              "      <th></th>\n",
              "      <th>ID</th>\n",
              "      <th>Customer_ID</th>\n",
              "      <th>Month</th>\n",
              "      <th>Name</th>\n",
              "      <th>Age</th>\n",
              "      <th>SSN</th>\n",
              "      <th>Occupation</th>\n",
              "      <th>Annual_Income</th>\n",
              "      <th>Monthly_Inhand_Salary</th>\n",
              "      <th>Num_Bank_Accounts</th>\n",
              "      <th>...</th>\n",
              "      <th>Credit_Mix</th>\n",
              "      <th>Outstanding_Debt</th>\n",
              "      <th>Credit_Utilization_Ratio</th>\n",
              "      <th>Credit_History_Age</th>\n",
              "      <th>Payment_of_Min_Amount</th>\n",
              "      <th>Total_EMI_per_month</th>\n",
              "      <th>Amount_invested_monthly</th>\n",
              "      <th>Payment_Behaviour</th>\n",
              "      <th>Monthly_Balance</th>\n",
              "      <th>Credit_Score</th>\n",
              "    </tr>\n",
              "  </thead>\n",
              "  <tbody>\n",
              "    <tr>\n",
              "      <th>0</th>\n",
              "      <td>0x1602</td>\n",
              "      <td>CUS_0xd40</td>\n",
              "      <td>January</td>\n",
              "      <td>Aaron Maashoh</td>\n",
              "      <td>23</td>\n",
              "      <td>821-00-0265</td>\n",
              "      <td>Scientist</td>\n",
              "      <td>19114.12</td>\n",
              "      <td>1824.843333</td>\n",
              "      <td>3</td>\n",
              "      <td>...</td>\n",
              "      <td>_</td>\n",
              "      <td>809.98</td>\n",
              "      <td>26.822620</td>\n",
              "      <td>22 Years and 1 Months</td>\n",
              "      <td>No</td>\n",
              "      <td>49.574949</td>\n",
              "      <td>80.41529543900253</td>\n",
              "      <td>High_spent_Small_value_payments</td>\n",
              "      <td>312.49408867943663</td>\n",
              "      <td>Good</td>\n",
              "    </tr>\n",
              "    <tr>\n",
              "      <th>1</th>\n",
              "      <td>0x1603</td>\n",
              "      <td>CUS_0xd40</td>\n",
              "      <td>February</td>\n",
              "      <td>Aaron Maashoh</td>\n",
              "      <td>23</td>\n",
              "      <td>821-00-0265</td>\n",
              "      <td>Scientist</td>\n",
              "      <td>19114.12</td>\n",
              "      <td>NaN</td>\n",
              "      <td>3</td>\n",
              "      <td>...</td>\n",
              "      <td>Good</td>\n",
              "      <td>809.98</td>\n",
              "      <td>31.944960</td>\n",
              "      <td>NaN</td>\n",
              "      <td>No</td>\n",
              "      <td>49.574949</td>\n",
              "      <td>118.28022162236736</td>\n",
              "      <td>Low_spent_Large_value_payments</td>\n",
              "      <td>284.62916249607184</td>\n",
              "      <td>Good</td>\n",
              "    </tr>\n",
              "    <tr>\n",
              "      <th>2</th>\n",
              "      <td>0x1604</td>\n",
              "      <td>CUS_0xd40</td>\n",
              "      <td>March</td>\n",
              "      <td>Aaron Maashoh</td>\n",
              "      <td>-500</td>\n",
              "      <td>821-00-0265</td>\n",
              "      <td>Scientist</td>\n",
              "      <td>19114.12</td>\n",
              "      <td>NaN</td>\n",
              "      <td>3</td>\n",
              "      <td>...</td>\n",
              "      <td>Good</td>\n",
              "      <td>809.98</td>\n",
              "      <td>28.609352</td>\n",
              "      <td>22 Years and 3 Months</td>\n",
              "      <td>No</td>\n",
              "      <td>49.574949</td>\n",
              "      <td>81.699521264648</td>\n",
              "      <td>Low_spent_Medium_value_payments</td>\n",
              "      <td>331.2098628537912</td>\n",
              "      <td>Good</td>\n",
              "    </tr>\n",
              "    <tr>\n",
              "      <th>3</th>\n",
              "      <td>0x1605</td>\n",
              "      <td>CUS_0xd40</td>\n",
              "      <td>April</td>\n",
              "      <td>Aaron Maashoh</td>\n",
              "      <td>23</td>\n",
              "      <td>821-00-0265</td>\n",
              "      <td>Scientist</td>\n",
              "      <td>19114.12</td>\n",
              "      <td>NaN</td>\n",
              "      <td>3</td>\n",
              "      <td>...</td>\n",
              "      <td>Good</td>\n",
              "      <td>809.98</td>\n",
              "      <td>31.377862</td>\n",
              "      <td>22 Years and 4 Months</td>\n",
              "      <td>No</td>\n",
              "      <td>49.574949</td>\n",
              "      <td>199.4580743910713</td>\n",
              "      <td>Low_spent_Small_value_payments</td>\n",
              "      <td>223.45130972736786</td>\n",
              "      <td>Good</td>\n",
              "    </tr>\n",
              "    <tr>\n",
              "      <th>4</th>\n",
              "      <td>0x1606</td>\n",
              "      <td>CUS_0xd40</td>\n",
              "      <td>May</td>\n",
              "      <td>Aaron Maashoh</td>\n",
              "      <td>23</td>\n",
              "      <td>821-00-0265</td>\n",
              "      <td>Scientist</td>\n",
              "      <td>19114.12</td>\n",
              "      <td>1824.843333</td>\n",
              "      <td>3</td>\n",
              "      <td>...</td>\n",
              "      <td>Good</td>\n",
              "      <td>809.98</td>\n",
              "      <td>24.797347</td>\n",
              "      <td>22 Years and 5 Months</td>\n",
              "      <td>No</td>\n",
              "      <td>49.574949</td>\n",
              "      <td>41.420153086217326</td>\n",
              "      <td>High_spent_Medium_value_payments</td>\n",
              "      <td>341.48923103222177</td>\n",
              "      <td>Good</td>\n",
              "    </tr>\n",
              "    <tr>\n",
              "      <th>...</th>\n",
              "      <td>...</td>\n",
              "      <td>...</td>\n",
              "      <td>...</td>\n",
              "      <td>...</td>\n",
              "      <td>...</td>\n",
              "      <td>...</td>\n",
              "      <td>...</td>\n",
              "      <td>...</td>\n",
              "      <td>...</td>\n",
              "      <td>...</td>\n",
              "      <td>...</td>\n",
              "      <td>...</td>\n",
              "      <td>...</td>\n",
              "      <td>...</td>\n",
              "      <td>...</td>\n",
              "      <td>...</td>\n",
              "      <td>...</td>\n",
              "      <td>...</td>\n",
              "      <td>...</td>\n",
              "      <td>...</td>\n",
              "      <td>...</td>\n",
              "    </tr>\n",
              "    <tr>\n",
              "      <th>99995</th>\n",
              "      <td>0x25fe9</td>\n",
              "      <td>CUS_0x942c</td>\n",
              "      <td>April</td>\n",
              "      <td>Nicks</td>\n",
              "      <td>25</td>\n",
              "      <td>078-73-5990</td>\n",
              "      <td>Mechanic</td>\n",
              "      <td>39628.99</td>\n",
              "      <td>3359.415833</td>\n",
              "      <td>4</td>\n",
              "      <td>...</td>\n",
              "      <td>_</td>\n",
              "      <td>502.38</td>\n",
              "      <td>34.663572</td>\n",
              "      <td>31 Years and 6 Months</td>\n",
              "      <td>No</td>\n",
              "      <td>35.104023</td>\n",
              "      <td>60.97133255718485</td>\n",
              "      <td>High_spent_Large_value_payments</td>\n",
              "      <td>479.866228</td>\n",
              "      <td>Poor</td>\n",
              "    </tr>\n",
              "    <tr>\n",
              "      <th>99996</th>\n",
              "      <td>0x25fea</td>\n",
              "      <td>CUS_0x942c</td>\n",
              "      <td>May</td>\n",
              "      <td>Nicks</td>\n",
              "      <td>25</td>\n",
              "      <td>078-73-5990</td>\n",
              "      <td>Mechanic</td>\n",
              "      <td>39628.99</td>\n",
              "      <td>3359.415833</td>\n",
              "      <td>4</td>\n",
              "      <td>...</td>\n",
              "      <td>_</td>\n",
              "      <td>502.38</td>\n",
              "      <td>40.565631</td>\n",
              "      <td>31 Years and 7 Months</td>\n",
              "      <td>No</td>\n",
              "      <td>35.104023</td>\n",
              "      <td>54.18595028760385</td>\n",
              "      <td>High_spent_Medium_value_payments</td>\n",
              "      <td>496.65161</td>\n",
              "      <td>Poor</td>\n",
              "    </tr>\n",
              "    <tr>\n",
              "      <th>99997</th>\n",
              "      <td>0x25feb</td>\n",
              "      <td>CUS_0x942c</td>\n",
              "      <td>June</td>\n",
              "      <td>Nicks</td>\n",
              "      <td>25</td>\n",
              "      <td>078-73-5990</td>\n",
              "      <td>Mechanic</td>\n",
              "      <td>39628.99</td>\n",
              "      <td>3359.415833</td>\n",
              "      <td>4</td>\n",
              "      <td>...</td>\n",
              "      <td>Good</td>\n",
              "      <td>502.38</td>\n",
              "      <td>41.255522</td>\n",
              "      <td>31 Years and 8 Months</td>\n",
              "      <td>No</td>\n",
              "      <td>35.104023</td>\n",
              "      <td>24.02847744864441</td>\n",
              "      <td>High_spent_Large_value_payments</td>\n",
              "      <td>516.809083</td>\n",
              "      <td>Poor</td>\n",
              "    </tr>\n",
              "    <tr>\n",
              "      <th>99998</th>\n",
              "      <td>0x25fec</td>\n",
              "      <td>CUS_0x942c</td>\n",
              "      <td>July</td>\n",
              "      <td>Nicks</td>\n",
              "      <td>25</td>\n",
              "      <td>078-73-5990</td>\n",
              "      <td>Mechanic</td>\n",
              "      <td>39628.99</td>\n",
              "      <td>3359.415833</td>\n",
              "      <td>4</td>\n",
              "      <td>...</td>\n",
              "      <td>Good</td>\n",
              "      <td>502.38</td>\n",
              "      <td>33.638208</td>\n",
              "      <td>31 Years and 9 Months</td>\n",
              "      <td>No</td>\n",
              "      <td>35.104023</td>\n",
              "      <td>251.67258219721603</td>\n",
              "      <td>Low_spent_Large_value_payments</td>\n",
              "      <td>319.164979</td>\n",
              "      <td>Standard</td>\n",
              "    </tr>\n",
              "    <tr>\n",
              "      <th>99999</th>\n",
              "      <td>0x25fed</td>\n",
              "      <td>CUS_0x942c</td>\n",
              "      <td>August</td>\n",
              "      <td>Nicks</td>\n",
              "      <td>25</td>\n",
              "      <td>078-73-5990</td>\n",
              "      <td>Mechanic</td>\n",
              "      <td>39628.99_</td>\n",
              "      <td>3359.415833</td>\n",
              "      <td>4</td>\n",
              "      <td>...</td>\n",
              "      <td>Good</td>\n",
              "      <td>502.38</td>\n",
              "      <td>34.192463</td>\n",
              "      <td>31 Years and 10 Months</td>\n",
              "      <td>No</td>\n",
              "      <td>35.104023</td>\n",
              "      <td>167.1638651610451</td>\n",
              "      <td>!@9#%8</td>\n",
              "      <td>393.673696</td>\n",
              "      <td>Poor</td>\n",
              "    </tr>\n",
              "  </tbody>\n",
              "</table>\n",
              "<p>100000 rows × 28 columns</p>\n",
              "</div>\n",
              "      <button class=\"colab-df-convert\" onclick=\"convertToInteractive('df-6d346f95-2340-4b6b-bf70-eaca51175575')\"\n",
              "              title=\"Convert this dataframe to an interactive table.\"\n",
              "              style=\"display:none;\">\n",
              "        \n",
              "  <svg xmlns=\"http://www.w3.org/2000/svg\" height=\"24px\"viewBox=\"0 0 24 24\"\n",
              "       width=\"24px\">\n",
              "    <path d=\"M0 0h24v24H0V0z\" fill=\"none\"/>\n",
              "    <path d=\"M18.56 5.44l.94 2.06.94-2.06 2.06-.94-2.06-.94-.94-2.06-.94 2.06-2.06.94zm-11 1L8.5 8.5l.94-2.06 2.06-.94-2.06-.94L8.5 2.5l-.94 2.06-2.06.94zm10 10l.94 2.06.94-2.06 2.06-.94-2.06-.94-.94-2.06-.94 2.06-2.06.94z\"/><path d=\"M17.41 7.96l-1.37-1.37c-.4-.4-.92-.59-1.43-.59-.52 0-1.04.2-1.43.59L10.3 9.45l-7.72 7.72c-.78.78-.78 2.05 0 2.83L4 21.41c.39.39.9.59 1.41.59.51 0 1.02-.2 1.41-.59l7.78-7.78 2.81-2.81c.8-.78.8-2.07 0-2.86zM5.41 20L4 18.59l7.72-7.72 1.47 1.35L5.41 20z\"/>\n",
              "  </svg>\n",
              "      </button>\n",
              "      \n",
              "  <style>\n",
              "    .colab-df-container {\n",
              "      display:flex;\n",
              "      flex-wrap:wrap;\n",
              "      gap: 12px;\n",
              "    }\n",
              "\n",
              "    .colab-df-convert {\n",
              "      background-color: #E8F0FE;\n",
              "      border: none;\n",
              "      border-radius: 50%;\n",
              "      cursor: pointer;\n",
              "      display: none;\n",
              "      fill: #1967D2;\n",
              "      height: 32px;\n",
              "      padding: 0 0 0 0;\n",
              "      width: 32px;\n",
              "    }\n",
              "\n",
              "    .colab-df-convert:hover {\n",
              "      background-color: #E2EBFA;\n",
              "      box-shadow: 0px 1px 2px rgba(60, 64, 67, 0.3), 0px 1px 3px 1px rgba(60, 64, 67, 0.15);\n",
              "      fill: #174EA6;\n",
              "    }\n",
              "\n",
              "    [theme=dark] .colab-df-convert {\n",
              "      background-color: #3B4455;\n",
              "      fill: #D2E3FC;\n",
              "    }\n",
              "\n",
              "    [theme=dark] .colab-df-convert:hover {\n",
              "      background-color: #434B5C;\n",
              "      box-shadow: 0px 1px 3px 1px rgba(0, 0, 0, 0.15);\n",
              "      filter: drop-shadow(0px 1px 2px rgba(0, 0, 0, 0.3));\n",
              "      fill: #FFFFFF;\n",
              "    }\n",
              "  </style>\n",
              "\n",
              "      <script>\n",
              "        const buttonEl =\n",
              "          document.querySelector('#df-6d346f95-2340-4b6b-bf70-eaca51175575 button.colab-df-convert');\n",
              "        buttonEl.style.display =\n",
              "          google.colab.kernel.accessAllowed ? 'block' : 'none';\n",
              "\n",
              "        async function convertToInteractive(key) {\n",
              "          const element = document.querySelector('#df-6d346f95-2340-4b6b-bf70-eaca51175575');\n",
              "          const dataTable =\n",
              "            await google.colab.kernel.invokeFunction('convertToInteractive',\n",
              "                                                     [key], {});\n",
              "          if (!dataTable) return;\n",
              "\n",
              "          const docLinkHtml = 'Like what you see? Visit the ' +\n",
              "            '<a target=\"_blank\" href=https://colab.research.google.com/notebooks/data_table.ipynb>data table notebook</a>'\n",
              "            + ' to learn more about interactive tables.';\n",
              "          element.innerHTML = '';\n",
              "          dataTable['output_type'] = 'display_data';\n",
              "          await google.colab.output.renderOutput(dataTable, element);\n",
              "          const docLink = document.createElement('div');\n",
              "          docLink.innerHTML = docLinkHtml;\n",
              "          element.appendChild(docLink);\n",
              "        }\n",
              "      </script>\n",
              "    </div>\n",
              "  </div>\n",
              "  "
            ]
          },
          "metadata": {},
          "execution_count": 3
        }
      ]
    },
    {
      "cell_type": "code",
      "source": [
        "df.describe()"
      ],
      "metadata": {
        "colab": {
          "base_uri": "https://localhost:8080/",
          "height": 300
        },
        "id": "Xk-NTYZyAymn",
        "outputId": "d6ccf3da-6c7b-4851-b1db-66420e406b61"
      },
      "execution_count": null,
      "outputs": [
        {
          "output_type": "execute_result",
          "data": {
            "text/plain": [
              "       Monthly_Inhand_Salary  Num_Bank_Accounts  Num_Credit_Card  \\\n",
              "count           84998.000000      100000.000000     100000.00000   \n",
              "mean             4194.170850          17.091280         22.47443   \n",
              "std              3183.686167         117.404834        129.05741   \n",
              "min               303.645417          -1.000000          0.00000   \n",
              "25%              1625.568229           3.000000          4.00000   \n",
              "50%              3093.745000           6.000000          5.00000   \n",
              "75%              5957.448333           7.000000          7.00000   \n",
              "max             15204.633333        1798.000000       1499.00000   \n",
              "\n",
              "       Interest_Rate  Delay_from_due_date  Num_Credit_Inquiries  \\\n",
              "count  100000.000000        100000.000000          98035.000000   \n",
              "mean       72.466040            21.068780             27.754251   \n",
              "std       466.422621            14.860104            193.177339   \n",
              "min         1.000000            -5.000000              0.000000   \n",
              "25%         8.000000            10.000000              3.000000   \n",
              "50%        13.000000            18.000000              6.000000   \n",
              "75%        20.000000            28.000000              9.000000   \n",
              "max      5797.000000            67.000000           2597.000000   \n",
              "\n",
              "       Credit_Utilization_Ratio  Total_EMI_per_month  \n",
              "count             100000.000000        100000.000000  \n",
              "mean                  32.285173          1403.118217  \n",
              "std                    5.116875          8306.041270  \n",
              "min                   20.000000             0.000000  \n",
              "25%                   28.052567            30.306660  \n",
              "50%                   32.305784            69.249473  \n",
              "75%                   36.496663           161.224249  \n",
              "max                   50.000000         82331.000000  "
            ],
            "text/html": [
              "\n",
              "  <div id=\"df-5ace53b1-0b2e-4f14-a275-24288d6521cc\">\n",
              "    <div class=\"colab-df-container\">\n",
              "      <div>\n",
              "<style scoped>\n",
              "    .dataframe tbody tr th:only-of-type {\n",
              "        vertical-align: middle;\n",
              "    }\n",
              "\n",
              "    .dataframe tbody tr th {\n",
              "        vertical-align: top;\n",
              "    }\n",
              "\n",
              "    .dataframe thead th {\n",
              "        text-align: right;\n",
              "    }\n",
              "</style>\n",
              "<table border=\"1\" class=\"dataframe\">\n",
              "  <thead>\n",
              "    <tr style=\"text-align: right;\">\n",
              "      <th></th>\n",
              "      <th>Monthly_Inhand_Salary</th>\n",
              "      <th>Num_Bank_Accounts</th>\n",
              "      <th>Num_Credit_Card</th>\n",
              "      <th>Interest_Rate</th>\n",
              "      <th>Delay_from_due_date</th>\n",
              "      <th>Num_Credit_Inquiries</th>\n",
              "      <th>Credit_Utilization_Ratio</th>\n",
              "      <th>Total_EMI_per_month</th>\n",
              "    </tr>\n",
              "  </thead>\n",
              "  <tbody>\n",
              "    <tr>\n",
              "      <th>count</th>\n",
              "      <td>84998.000000</td>\n",
              "      <td>100000.000000</td>\n",
              "      <td>100000.00000</td>\n",
              "      <td>100000.000000</td>\n",
              "      <td>100000.000000</td>\n",
              "      <td>98035.000000</td>\n",
              "      <td>100000.000000</td>\n",
              "      <td>100000.000000</td>\n",
              "    </tr>\n",
              "    <tr>\n",
              "      <th>mean</th>\n",
              "      <td>4194.170850</td>\n",
              "      <td>17.091280</td>\n",
              "      <td>22.47443</td>\n",
              "      <td>72.466040</td>\n",
              "      <td>21.068780</td>\n",
              "      <td>27.754251</td>\n",
              "      <td>32.285173</td>\n",
              "      <td>1403.118217</td>\n",
              "    </tr>\n",
              "    <tr>\n",
              "      <th>std</th>\n",
              "      <td>3183.686167</td>\n",
              "      <td>117.404834</td>\n",
              "      <td>129.05741</td>\n",
              "      <td>466.422621</td>\n",
              "      <td>14.860104</td>\n",
              "      <td>193.177339</td>\n",
              "      <td>5.116875</td>\n",
              "      <td>8306.041270</td>\n",
              "    </tr>\n",
              "    <tr>\n",
              "      <th>min</th>\n",
              "      <td>303.645417</td>\n",
              "      <td>-1.000000</td>\n",
              "      <td>0.00000</td>\n",
              "      <td>1.000000</td>\n",
              "      <td>-5.000000</td>\n",
              "      <td>0.000000</td>\n",
              "      <td>20.000000</td>\n",
              "      <td>0.000000</td>\n",
              "    </tr>\n",
              "    <tr>\n",
              "      <th>25%</th>\n",
              "      <td>1625.568229</td>\n",
              "      <td>3.000000</td>\n",
              "      <td>4.00000</td>\n",
              "      <td>8.000000</td>\n",
              "      <td>10.000000</td>\n",
              "      <td>3.000000</td>\n",
              "      <td>28.052567</td>\n",
              "      <td>30.306660</td>\n",
              "    </tr>\n",
              "    <tr>\n",
              "      <th>50%</th>\n",
              "      <td>3093.745000</td>\n",
              "      <td>6.000000</td>\n",
              "      <td>5.00000</td>\n",
              "      <td>13.000000</td>\n",
              "      <td>18.000000</td>\n",
              "      <td>6.000000</td>\n",
              "      <td>32.305784</td>\n",
              "      <td>69.249473</td>\n",
              "    </tr>\n",
              "    <tr>\n",
              "      <th>75%</th>\n",
              "      <td>5957.448333</td>\n",
              "      <td>7.000000</td>\n",
              "      <td>7.00000</td>\n",
              "      <td>20.000000</td>\n",
              "      <td>28.000000</td>\n",
              "      <td>9.000000</td>\n",
              "      <td>36.496663</td>\n",
              "      <td>161.224249</td>\n",
              "    </tr>\n",
              "    <tr>\n",
              "      <th>max</th>\n",
              "      <td>15204.633333</td>\n",
              "      <td>1798.000000</td>\n",
              "      <td>1499.00000</td>\n",
              "      <td>5797.000000</td>\n",
              "      <td>67.000000</td>\n",
              "      <td>2597.000000</td>\n",
              "      <td>50.000000</td>\n",
              "      <td>82331.000000</td>\n",
              "    </tr>\n",
              "  </tbody>\n",
              "</table>\n",
              "</div>\n",
              "      <button class=\"colab-df-convert\" onclick=\"convertToInteractive('df-5ace53b1-0b2e-4f14-a275-24288d6521cc')\"\n",
              "              title=\"Convert this dataframe to an interactive table.\"\n",
              "              style=\"display:none;\">\n",
              "        \n",
              "  <svg xmlns=\"http://www.w3.org/2000/svg\" height=\"24px\"viewBox=\"0 0 24 24\"\n",
              "       width=\"24px\">\n",
              "    <path d=\"M0 0h24v24H0V0z\" fill=\"none\"/>\n",
              "    <path d=\"M18.56 5.44l.94 2.06.94-2.06 2.06-.94-2.06-.94-.94-2.06-.94 2.06-2.06.94zm-11 1L8.5 8.5l.94-2.06 2.06-.94-2.06-.94L8.5 2.5l-.94 2.06-2.06.94zm10 10l.94 2.06.94-2.06 2.06-.94-2.06-.94-.94-2.06-.94 2.06-2.06.94z\"/><path d=\"M17.41 7.96l-1.37-1.37c-.4-.4-.92-.59-1.43-.59-.52 0-1.04.2-1.43.59L10.3 9.45l-7.72 7.72c-.78.78-.78 2.05 0 2.83L4 21.41c.39.39.9.59 1.41.59.51 0 1.02-.2 1.41-.59l7.78-7.78 2.81-2.81c.8-.78.8-2.07 0-2.86zM5.41 20L4 18.59l7.72-7.72 1.47 1.35L5.41 20z\"/>\n",
              "  </svg>\n",
              "      </button>\n",
              "      \n",
              "  <style>\n",
              "    .colab-df-container {\n",
              "      display:flex;\n",
              "      flex-wrap:wrap;\n",
              "      gap: 12px;\n",
              "    }\n",
              "\n",
              "    .colab-df-convert {\n",
              "      background-color: #E8F0FE;\n",
              "      border: none;\n",
              "      border-radius: 50%;\n",
              "      cursor: pointer;\n",
              "      display: none;\n",
              "      fill: #1967D2;\n",
              "      height: 32px;\n",
              "      padding: 0 0 0 0;\n",
              "      width: 32px;\n",
              "    }\n",
              "\n",
              "    .colab-df-convert:hover {\n",
              "      background-color: #E2EBFA;\n",
              "      box-shadow: 0px 1px 2px rgba(60, 64, 67, 0.3), 0px 1px 3px 1px rgba(60, 64, 67, 0.15);\n",
              "      fill: #174EA6;\n",
              "    }\n",
              "\n",
              "    [theme=dark] .colab-df-convert {\n",
              "      background-color: #3B4455;\n",
              "      fill: #D2E3FC;\n",
              "    }\n",
              "\n",
              "    [theme=dark] .colab-df-convert:hover {\n",
              "      background-color: #434B5C;\n",
              "      box-shadow: 0px 1px 3px 1px rgba(0, 0, 0, 0.15);\n",
              "      filter: drop-shadow(0px 1px 2px rgba(0, 0, 0, 0.3));\n",
              "      fill: #FFFFFF;\n",
              "    }\n",
              "  </style>\n",
              "\n",
              "      <script>\n",
              "        const buttonEl =\n",
              "          document.querySelector('#df-5ace53b1-0b2e-4f14-a275-24288d6521cc button.colab-df-convert');\n",
              "        buttonEl.style.display =\n",
              "          google.colab.kernel.accessAllowed ? 'block' : 'none';\n",
              "\n",
              "        async function convertToInteractive(key) {\n",
              "          const element = document.querySelector('#df-5ace53b1-0b2e-4f14-a275-24288d6521cc');\n",
              "          const dataTable =\n",
              "            await google.colab.kernel.invokeFunction('convertToInteractive',\n",
              "                                                     [key], {});\n",
              "          if (!dataTable) return;\n",
              "\n",
              "          const docLinkHtml = 'Like what you see? Visit the ' +\n",
              "            '<a target=\"_blank\" href=https://colab.research.google.com/notebooks/data_table.ipynb>data table notebook</a>'\n",
              "            + ' to learn more about interactive tables.';\n",
              "          element.innerHTML = '';\n",
              "          dataTable['output_type'] = 'display_data';\n",
              "          await google.colab.output.renderOutput(dataTable, element);\n",
              "          const docLink = document.createElement('div');\n",
              "          docLink.innerHTML = docLinkHtml;\n",
              "          element.appendChild(docLink);\n",
              "        }\n",
              "      </script>\n",
              "    </div>\n",
              "  </div>\n",
              "  "
            ]
          },
          "metadata": {},
          "execution_count": 4
        }
      ]
    },
    {
      "cell_type": "code",
      "source": [
        "print(df.columns)"
      ],
      "metadata": {
        "colab": {
          "base_uri": "https://localhost:8080/"
        },
        "id": "kbIjkLJ6A-FW",
        "outputId": "7f6cae3d-cdd3-484b-e4ed-5fceedb7851c"
      },
      "execution_count": null,
      "outputs": [
        {
          "output_type": "stream",
          "name": "stdout",
          "text": [
            "Index(['ID', 'Customer_ID', 'Month', 'Name', 'Age', 'SSN', 'Occupation',\n",
            "       'Annual_Income', 'Monthly_Inhand_Salary', 'Num_Bank_Accounts',\n",
            "       'Num_Credit_Card', 'Interest_Rate', 'Num_of_Loan', 'Type_of_Loan',\n",
            "       'Delay_from_due_date', 'Num_of_Delayed_Payment', 'Changed_Credit_Limit',\n",
            "       'Num_Credit_Inquiries', 'Credit_Mix', 'Outstanding_Debt',\n",
            "       'Credit_Utilization_Ratio', 'Credit_History_Age',\n",
            "       'Payment_of_Min_Amount', 'Total_EMI_per_month',\n",
            "       'Amount_invested_monthly', 'Payment_Behaviour', 'Monthly_Balance',\n",
            "       'Credit_Score'],\n",
            "      dtype='object')\n"
          ]
        }
      ]
    },
    {
      "cell_type": "markdown",
      "source": [
        "* ID - Представляет уникальную идентификацию записи,\n",
        "\n",
        "* Customer_ID - Представляет собой уникальную идентификацию клиента,\n",
        "\n",
        "* Month - месяц взятия кредита,\n",
        "\n",
        "* Name - имя клиента,\n",
        "\n",
        "* Age - возраст клиента,\n",
        "\n",
        "* SSN - номер социального страхования клиента,\n",
        "\n",
        "* Occupation - профессия клиента,\n",
        "\n",
        "* Annual_Income - Годовой доход клиента,\n",
        "\n",
        "* Monthly_Inhand_Salary - ежемесячная базовая зарплата клиента,\n",
        "\n",
        "* Num_Bank_Accounts - количество банковских счетов, которыми владеет клиент,\n",
        "\n",
        "* Num_Credit_Card - номер кредитной карты клиента,\n",
        "\n",
        "* Interest_Rate - процентная ставка по кредитной карте,\n",
        "\n",
        "* Num_of_Loan - количество кредитов, взятых в банке,\n",
        "\n",
        "* Type_of_Loan - типы кредитов, взятых клиентом,\n",
        "\n",
        "* Delay_from_due_date - среднее количе\n",
        "\n",
        "* Num_of_Delayed_Payment - среднее количество платежей, задержанных человеком,\n",
        "\n",
        "* Changed_Credit_Limit - процентное изменение лимита кредитной карты,\n",
        "\n",
        "* Num_Credit_Inquiries - количество запросов по кредитным картам,\n",
        "\n",
        "* Credit_Mix - классификация набора кредитов,\n",
        "\n",
        "* Outstanding_Debt - оставшийся долг, подлежащий выплате,\n",
        "\n",
        "* Credit_Utilization_Ratio - коэффициент использования кредитной карты,\n",
        "\n",
        "* Credit_History_Age - возраст кредитной истории лица,\n",
        "\n",
        "* Payment_of_Min_Amount - была ли выплачена лицом только минимальная сумма,\n",
        " \n",
        "* Total_EMI_per_month - ежемесячные платежи EMI (в долларах США),\n",
        "\n",
        "* Amount_invested_monthly - ежемесячная сумма, инвестированная клиентом (в долларах США),\n",
        "\n",
        "* Payment_Behaviour - платехное поведение клиента,\n",
        "\n",
        "* Monthly_Balance - ежемесячный баланс клиента,\n",
        " \n",
        "* Credit_Score - кредитный рейтинг."
      ],
      "metadata": {
        "id": "N8zDDi2X_bC-"
      }
    },
    {
      "cell_type": "code",
      "source": [
        "df.nunique()"
      ],
      "metadata": {
        "colab": {
          "base_uri": "https://localhost:8080/"
        },
        "id": "ZLYTkWA-Oa6B",
        "outputId": "4c5a54ca-6add-4ec0-d3f0-1412b3d91cfb"
      },
      "execution_count": null,
      "outputs": [
        {
          "output_type": "execute_result",
          "data": {
            "text/plain": [
              "ID                          100000\n",
              "Customer_ID                  12500\n",
              "Month                            8\n",
              "Name                         10139\n",
              "Age                           1788\n",
              "SSN                          12501\n",
              "Occupation                      16\n",
              "Annual_Income                18940\n",
              "Monthly_Inhand_Salary        13235\n",
              "Num_Bank_Accounts              943\n",
              "Num_Credit_Card               1179\n",
              "Interest_Rate                 1750\n",
              "Num_of_Loan                    434\n",
              "Type_of_Loan                  6260\n",
              "Delay_from_due_date             73\n",
              "Num_of_Delayed_Payment         749\n",
              "Changed_Credit_Limit          4384\n",
              "Num_Credit_Inquiries          1223\n",
              "Credit_Mix                       4\n",
              "Outstanding_Debt             13178\n",
              "Credit_Utilization_Ratio    100000\n",
              "Credit_History_Age             404\n",
              "Payment_of_Min_Amount            3\n",
              "Total_EMI_per_month          14950\n",
              "Amount_invested_monthly      91049\n",
              "Payment_Behaviour                7\n",
              "Monthly_Balance              98792\n",
              "Credit_Score                     3\n",
              "dtype: int64"
            ]
          },
          "metadata": {},
          "execution_count": 6
        }
      ]
    },
    {
      "cell_type": "code",
      "source": [
        "df.info()"
      ],
      "metadata": {
        "colab": {
          "base_uri": "https://localhost:8080/"
        },
        "id": "d9PCA4fdOoGK",
        "outputId": "093c0b69-d1cb-424c-922c-43958f37147e"
      },
      "execution_count": null,
      "outputs": [
        {
          "output_type": "stream",
          "name": "stdout",
          "text": [
            "<class 'pandas.core.frame.DataFrame'>\n",
            "RangeIndex: 100000 entries, 0 to 99999\n",
            "Data columns (total 28 columns):\n",
            " #   Column                    Non-Null Count   Dtype  \n",
            "---  ------                    --------------   -----  \n",
            " 0   ID                        100000 non-null  object \n",
            " 1   Customer_ID               100000 non-null  object \n",
            " 2   Month                     100000 non-null  object \n",
            " 3   Name                      90015 non-null   object \n",
            " 4   Age                       100000 non-null  object \n",
            " 5   SSN                       100000 non-null  object \n",
            " 6   Occupation                100000 non-null  object \n",
            " 7   Annual_Income             100000 non-null  object \n",
            " 8   Monthly_Inhand_Salary     84998 non-null   float64\n",
            " 9   Num_Bank_Accounts         100000 non-null  int64  \n",
            " 10  Num_Credit_Card           100000 non-null  int64  \n",
            " 11  Interest_Rate             100000 non-null  int64  \n",
            " 12  Num_of_Loan               100000 non-null  object \n",
            " 13  Type_of_Loan              88592 non-null   object \n",
            " 14  Delay_from_due_date       100000 non-null  int64  \n",
            " 15  Num_of_Delayed_Payment    92998 non-null   object \n",
            " 16  Changed_Credit_Limit      100000 non-null  object \n",
            " 17  Num_Credit_Inquiries      98035 non-null   float64\n",
            " 18  Credit_Mix                100000 non-null  object \n",
            " 19  Outstanding_Debt          100000 non-null  object \n",
            " 20  Credit_Utilization_Ratio  100000 non-null  float64\n",
            " 21  Credit_History_Age        90970 non-null   object \n",
            " 22  Payment_of_Min_Amount     100000 non-null  object \n",
            " 23  Total_EMI_per_month       100000 non-null  float64\n",
            " 24  Amount_invested_monthly   95521 non-null   object \n",
            " 25  Payment_Behaviour         100000 non-null  object \n",
            " 26  Monthly_Balance           98800 non-null   object \n",
            " 27  Credit_Score              100000 non-null  object \n",
            "dtypes: float64(4), int64(4), object(20)\n",
            "memory usage: 21.4+ MB\n"
          ]
        }
      ]
    },
    {
      "cell_type": "markdown",
      "source": [
        "## Проверим количество пропущенных значений для каждой колонны:"
      ],
      "metadata": {
        "id": "0D7kif44PB2s"
      }
    },
    {
      "cell_type": "code",
      "source": [
        "df.isna().sum()"
      ],
      "metadata": {
        "colab": {
          "base_uri": "https://localhost:8080/"
        },
        "id": "WA6wuT7oPG_m",
        "outputId": "6fb4ce17-c196-400b-dc18-b313a07b3f0c"
      },
      "execution_count": null,
      "outputs": [
        {
          "output_type": "execute_result",
          "data": {
            "text/plain": [
              "ID                              0\n",
              "Customer_ID                     0\n",
              "Month                           0\n",
              "Name                         9985\n",
              "Age                             0\n",
              "SSN                             0\n",
              "Occupation                      0\n",
              "Annual_Income                   0\n",
              "Monthly_Inhand_Salary       15002\n",
              "Num_Bank_Accounts               0\n",
              "Num_Credit_Card                 0\n",
              "Interest_Rate                   0\n",
              "Num_of_Loan                     0\n",
              "Type_of_Loan                11408\n",
              "Delay_from_due_date             0\n",
              "Num_of_Delayed_Payment       7002\n",
              "Changed_Credit_Limit            0\n",
              "Num_Credit_Inquiries         1965\n",
              "Credit_Mix                      0\n",
              "Outstanding_Debt                0\n",
              "Credit_Utilization_Ratio        0\n",
              "Credit_History_Age           9030\n",
              "Payment_of_Min_Amount           0\n",
              "Total_EMI_per_month             0\n",
              "Amount_invested_monthly      4479\n",
              "Payment_Behaviour               0\n",
              "Monthly_Balance              1200\n",
              "Credit_Score                    0\n",
              "dtype: int64"
            ]
          },
          "metadata": {},
          "execution_count": 8
        }
      ]
    },
    {
      "cell_type": "markdown",
      "source": [
        "## Процент пропущенных полей:"
      ],
      "metadata": {
        "id": "4J_fWiRNPwfO"
      }
    },
    {
      "cell_type": "code",
      "source": [
        "df.isna().sum().sum() / (len(df) * len(df.columns)) * 100"
      ],
      "metadata": {
        "colab": {
          "base_uri": "https://localhost:8080/"
        },
        "id": "GES9q6f6Py3w",
        "outputId": "892b9fba-cc29-4170-ae0b-6b15023962e0"
      },
      "execution_count": null,
      "outputs": [
        {
          "output_type": "execute_result",
          "data": {
            "text/plain": [
              "2.1453928571428573"
            ]
          },
          "metadata": {},
          "execution_count": 9
        }
      ]
    },
    {
      "cell_type": "markdown",
      "source": [
        "## Количество элементов в каждом классе:"
      ],
      "metadata": {
        "id": "U46wLWb9Q9OX"
      }
    },
    {
      "cell_type": "code",
      "source": [
        "df['Credit_Score'].value_counts()"
      ],
      "metadata": {
        "colab": {
          "base_uri": "https://localhost:8080/"
        },
        "id": "k1SNCaYtQtE1",
        "outputId": "d9216659-fbc0-4eb4-82de-32079016fd8f"
      },
      "execution_count": null,
      "outputs": [
        {
          "output_type": "execute_result",
          "data": {
            "text/plain": [
              "Standard    53174\n",
              "Poor        28998\n",
              "Good        17828\n",
              "Name: Credit_Score, dtype: int64"
            ]
          },
          "metadata": {},
          "execution_count": 10
        }
      ]
    },
    {
      "cell_type": "code",
      "source": [
        "# from pandas.plotting import scatter_matrix\n",
        "# scatter_matrix(df, alpha = .01, figsize = (10, 10))\n",
        "# pass"
      ],
      "metadata": {
        "id": "ZN72fkVhTVMm"
      },
      "execution_count": null,
      "outputs": []
    },
    {
      "cell_type": "markdown",
      "source": [
        "# Исключим очевидно ненужные данные"
      ],
      "metadata": {
        "id": "PDK4G1gIT5Ox"
      }
    },
    {
      "cell_type": "code",
      "source": [
        "df_reduced = df.drop(['ID', 'Customer_ID', 'Name', 'SSN'], axis=1)"
      ],
      "metadata": {
        "id": "NFh1Ee-dSMlC"
      },
      "execution_count": null,
      "outputs": []
    },
    {
      "cell_type": "code",
      "source": [
        "print(df_reduced.columns)\n",
        "print('len: ', len(df_reduced.columns))"
      ],
      "metadata": {
        "id": "wzcVMAlaUD3V",
        "colab": {
          "base_uri": "https://localhost:8080/"
        },
        "outputId": "357c0365-b2b1-4569-e42c-e1fbe146213a"
      },
      "execution_count": null,
      "outputs": [
        {
          "output_type": "stream",
          "name": "stdout",
          "text": [
            "Index(['Month', 'Age', 'Occupation', 'Annual_Income', 'Monthly_Inhand_Salary',\n",
            "       'Num_Bank_Accounts', 'Num_Credit_Card', 'Interest_Rate', 'Num_of_Loan',\n",
            "       'Type_of_Loan', 'Delay_from_due_date', 'Num_of_Delayed_Payment',\n",
            "       'Changed_Credit_Limit', 'Num_Credit_Inquiries', 'Credit_Mix',\n",
            "       'Outstanding_Debt', 'Credit_Utilization_Ratio', 'Credit_History_Age',\n",
            "       'Payment_of_Min_Amount', 'Total_EMI_per_month',\n",
            "       'Amount_invested_monthly', 'Payment_Behaviour', 'Monthly_Balance',\n",
            "       'Credit_Score'],\n",
            "      dtype='object')\n",
            "len:  24\n"
          ]
        }
      ]
    },
    {
      "cell_type": "code",
      "source": [
        "df_reduced = df_reduced.applymap(\n",
        "  lambda x: x if x is np.NaN or not \\\n",
        "    isinstance(x, str) else str(x).strip('_')).replace(['', 'nan', '!@9#%8', '#F%$D@*&8'], np.NaN)"
      ],
      "metadata": {
        "id": "_l5qlZZiUn1A"
      },
      "execution_count": null,
      "outputs": []
    },
    {
      "cell_type": "code",
      "source": [
        "df = df_reduced\n",
        "df.info()"
      ],
      "metadata": {
        "id": "dkyY3fTPUyaa",
        "colab": {
          "base_uri": "https://localhost:8080/"
        },
        "outputId": "6cce52ae-52ae-4cdd-9582-76e7b36a2f0c"
      },
      "execution_count": null,
      "outputs": [
        {
          "output_type": "stream",
          "name": "stdout",
          "text": [
            "<class 'pandas.core.frame.DataFrame'>\n",
            "RangeIndex: 100000 entries, 0 to 99999\n",
            "Data columns (total 24 columns):\n",
            " #   Column                    Non-Null Count   Dtype  \n",
            "---  ------                    --------------   -----  \n",
            " 0   Month                     100000 non-null  object \n",
            " 1   Age                       100000 non-null  object \n",
            " 2   Occupation                92938 non-null   object \n",
            " 3   Annual_Income             100000 non-null  object \n",
            " 4   Monthly_Inhand_Salary     84998 non-null   float64\n",
            " 5   Num_Bank_Accounts         100000 non-null  int64  \n",
            " 6   Num_Credit_Card           100000 non-null  int64  \n",
            " 7   Interest_Rate             100000 non-null  int64  \n",
            " 8   Num_of_Loan               100000 non-null  object \n",
            " 9   Type_of_Loan              88592 non-null   object \n",
            " 10  Delay_from_due_date       100000 non-null  int64  \n",
            " 11  Num_of_Delayed_Payment    92998 non-null   object \n",
            " 12  Changed_Credit_Limit      97909 non-null   object \n",
            " 13  Num_Credit_Inquiries      98035 non-null   float64\n",
            " 14  Credit_Mix                79805 non-null   object \n",
            " 15  Outstanding_Debt          100000 non-null  object \n",
            " 16  Credit_Utilization_Ratio  100000 non-null  float64\n",
            " 17  Credit_History_Age        90970 non-null   object \n",
            " 18  Payment_of_Min_Amount     100000 non-null  object \n",
            " 19  Total_EMI_per_month       100000 non-null  float64\n",
            " 20  Amount_invested_monthly   95521 non-null   object \n",
            " 21  Payment_Behaviour         92400 non-null   object \n",
            " 22  Monthly_Balance           98800 non-null   object \n",
            " 23  Credit_Score              100000 non-null  object \n",
            "dtypes: float64(4), int64(4), object(16)\n",
            "memory usage: 18.3+ MB\n"
          ]
        }
      ]
    },
    {
      "cell_type": "code",
      "source": [
        "df['Age'] = df['Age'].astype(int)\n",
        "df['Annual_Income'] = df['Annual_Income'].astype(float)\n",
        "df['Num_of_Loan'] = df['Num_of_Loan'].astype(int)\n",
        "df['Num_of_Delayed_Payment'] = df['Num_of_Delayed_Payment'].astype(float)\n",
        "df['Changed_Credit_Limit'] = df['Changed_Credit_Limit'].astype(float)\n",
        "df['Outstanding_Debt'] = df['Outstanding_Debt'].astype(float)\n",
        "df['Amount_invested_monthly'] = df['Amount_invested_monthly'].astype(float)\n",
        "df['Monthly_Balance'] = df['Monthly_Balance'].astype(float)"
      ],
      "metadata": {
        "id": "vCTJ2_Y_g9pM"
      },
      "execution_count": null,
      "outputs": []
    },
    {
      "cell_type": "markdown",
      "source": [
        "# Первым делом нам необходимо избавиться от выбросов"
      ],
      "metadata": {
        "id": "yrzCMnnyX6AQ"
      }
    },
    {
      "cell_type": "code",
      "source": [
        "df.describe()"
      ],
      "metadata": {
        "id": "s7NwVO3xZfzI",
        "colab": {
          "base_uri": "https://localhost:8080/",
          "height": 364
        },
        "outputId": "2c602ed2-77f6-4392-e33c-5c31b664cae3"
      },
      "execution_count": null,
      "outputs": [
        {
          "output_type": "execute_result",
          "data": {
            "text/plain": [
              "                 Age  Annual_Income  Monthly_Inhand_Salary  Num_Bank_Accounts  \\\n",
              "count  100000.000000   1.000000e+05           84998.000000      100000.000000   \n",
              "mean      110.649700   1.764157e+05            4194.170850          17.091280   \n",
              "std       686.244717   1.429618e+06            3183.686167         117.404834   \n",
              "min      -500.000000   7.005930e+03             303.645417          -1.000000   \n",
              "25%        24.000000   1.945750e+04            1625.568229           3.000000   \n",
              "50%        33.000000   3.757861e+04            3093.745000           6.000000   \n",
              "75%        42.000000   7.279092e+04            5957.448333           7.000000   \n",
              "max      8698.000000   2.419806e+07           15204.633333        1798.000000   \n",
              "\n",
              "       Num_Credit_Card  Interest_Rate    Num_of_Loan  Delay_from_due_date  \\\n",
              "count     100000.00000  100000.000000  100000.000000        100000.000000   \n",
              "mean          22.47443      72.466040       3.009960            21.068780   \n",
              "std          129.05741     466.422621      62.647879            14.860104   \n",
              "min            0.00000       1.000000    -100.000000            -5.000000   \n",
              "25%            4.00000       8.000000       1.000000            10.000000   \n",
              "50%            5.00000      13.000000       3.000000            18.000000   \n",
              "75%            7.00000      20.000000       5.000000            28.000000   \n",
              "max         1499.00000    5797.000000    1496.000000            67.000000   \n",
              "\n",
              "       Num_of_Delayed_Payment  Changed_Credit_Limit  Num_Credit_Inquiries  \\\n",
              "count            92998.000000          97909.000000          98035.000000   \n",
              "mean                30.923342             10.389025             27.754251   \n",
              "std                226.031892              6.789496            193.177339   \n",
              "min                 -3.000000             -6.490000              0.000000   \n",
              "25%                  9.000000              5.320000              3.000000   \n",
              "50%                 14.000000              9.400000              6.000000   \n",
              "75%                 18.000000             14.870000              9.000000   \n",
              "max               4397.000000             36.970000           2597.000000   \n",
              "\n",
              "       Outstanding_Debt  Credit_Utilization_Ratio  Total_EMI_per_month  \\\n",
              "count     100000.000000             100000.000000        100000.000000   \n",
              "mean        1426.220376                 32.285173          1403.118217   \n",
              "std         1155.129026                  5.116875          8306.041270   \n",
              "min            0.230000                 20.000000             0.000000   \n",
              "25%          566.072500                 28.052567            30.306660   \n",
              "50%         1166.155000                 32.305784            69.249473   \n",
              "75%         1945.962500                 36.496663           161.224249   \n",
              "max         4998.070000                 50.000000         82331.000000   \n",
              "\n",
              "       Amount_invested_monthly  Monthly_Balance  \n",
              "count             95521.000000     9.880000e+04  \n",
              "mean                637.412998    -3.036437e+22  \n",
              "std                2043.319327     3.181295e+24  \n",
              "min                   0.000000    -3.333333e+26  \n",
              "25%                  74.534002     2.700922e+02  \n",
              "50%                 135.925682     3.367192e+02  \n",
              "75%                 265.731733     4.702202e+02  \n",
              "max               10000.000000     1.602041e+03  "
            ],
            "text/html": [
              "\n",
              "  <div id=\"df-2cc11538-4b42-4b58-a920-a54bfa4daa9d\">\n",
              "    <div class=\"colab-df-container\">\n",
              "      <div>\n",
              "<style scoped>\n",
              "    .dataframe tbody tr th:only-of-type {\n",
              "        vertical-align: middle;\n",
              "    }\n",
              "\n",
              "    .dataframe tbody tr th {\n",
              "        vertical-align: top;\n",
              "    }\n",
              "\n",
              "    .dataframe thead th {\n",
              "        text-align: right;\n",
              "    }\n",
              "</style>\n",
              "<table border=\"1\" class=\"dataframe\">\n",
              "  <thead>\n",
              "    <tr style=\"text-align: right;\">\n",
              "      <th></th>\n",
              "      <th>Age</th>\n",
              "      <th>Annual_Income</th>\n",
              "      <th>Monthly_Inhand_Salary</th>\n",
              "      <th>Num_Bank_Accounts</th>\n",
              "      <th>Num_Credit_Card</th>\n",
              "      <th>Interest_Rate</th>\n",
              "      <th>Num_of_Loan</th>\n",
              "      <th>Delay_from_due_date</th>\n",
              "      <th>Num_of_Delayed_Payment</th>\n",
              "      <th>Changed_Credit_Limit</th>\n",
              "      <th>Num_Credit_Inquiries</th>\n",
              "      <th>Outstanding_Debt</th>\n",
              "      <th>Credit_Utilization_Ratio</th>\n",
              "      <th>Total_EMI_per_month</th>\n",
              "      <th>Amount_invested_monthly</th>\n",
              "      <th>Monthly_Balance</th>\n",
              "    </tr>\n",
              "  </thead>\n",
              "  <tbody>\n",
              "    <tr>\n",
              "      <th>count</th>\n",
              "      <td>100000.000000</td>\n",
              "      <td>1.000000e+05</td>\n",
              "      <td>84998.000000</td>\n",
              "      <td>100000.000000</td>\n",
              "      <td>100000.00000</td>\n",
              "      <td>100000.000000</td>\n",
              "      <td>100000.000000</td>\n",
              "      <td>100000.000000</td>\n",
              "      <td>92998.000000</td>\n",
              "      <td>97909.000000</td>\n",
              "      <td>98035.000000</td>\n",
              "      <td>100000.000000</td>\n",
              "      <td>100000.000000</td>\n",
              "      <td>100000.000000</td>\n",
              "      <td>95521.000000</td>\n",
              "      <td>9.880000e+04</td>\n",
              "    </tr>\n",
              "    <tr>\n",
              "      <th>mean</th>\n",
              "      <td>110.649700</td>\n",
              "      <td>1.764157e+05</td>\n",
              "      <td>4194.170850</td>\n",
              "      <td>17.091280</td>\n",
              "      <td>22.47443</td>\n",
              "      <td>72.466040</td>\n",
              "      <td>3.009960</td>\n",
              "      <td>21.068780</td>\n",
              "      <td>30.923342</td>\n",
              "      <td>10.389025</td>\n",
              "      <td>27.754251</td>\n",
              "      <td>1426.220376</td>\n",
              "      <td>32.285173</td>\n",
              "      <td>1403.118217</td>\n",
              "      <td>637.412998</td>\n",
              "      <td>-3.036437e+22</td>\n",
              "    </tr>\n",
              "    <tr>\n",
              "      <th>std</th>\n",
              "      <td>686.244717</td>\n",
              "      <td>1.429618e+06</td>\n",
              "      <td>3183.686167</td>\n",
              "      <td>117.404834</td>\n",
              "      <td>129.05741</td>\n",
              "      <td>466.422621</td>\n",
              "      <td>62.647879</td>\n",
              "      <td>14.860104</td>\n",
              "      <td>226.031892</td>\n",
              "      <td>6.789496</td>\n",
              "      <td>193.177339</td>\n",
              "      <td>1155.129026</td>\n",
              "      <td>5.116875</td>\n",
              "      <td>8306.041270</td>\n",
              "      <td>2043.319327</td>\n",
              "      <td>3.181295e+24</td>\n",
              "    </tr>\n",
              "    <tr>\n",
              "      <th>min</th>\n",
              "      <td>-500.000000</td>\n",
              "      <td>7.005930e+03</td>\n",
              "      <td>303.645417</td>\n",
              "      <td>-1.000000</td>\n",
              "      <td>0.00000</td>\n",
              "      <td>1.000000</td>\n",
              "      <td>-100.000000</td>\n",
              "      <td>-5.000000</td>\n",
              "      <td>-3.000000</td>\n",
              "      <td>-6.490000</td>\n",
              "      <td>0.000000</td>\n",
              "      <td>0.230000</td>\n",
              "      <td>20.000000</td>\n",
              "      <td>0.000000</td>\n",
              "      <td>0.000000</td>\n",
              "      <td>-3.333333e+26</td>\n",
              "    </tr>\n",
              "    <tr>\n",
              "      <th>25%</th>\n",
              "      <td>24.000000</td>\n",
              "      <td>1.945750e+04</td>\n",
              "      <td>1625.568229</td>\n",
              "      <td>3.000000</td>\n",
              "      <td>4.00000</td>\n",
              "      <td>8.000000</td>\n",
              "      <td>1.000000</td>\n",
              "      <td>10.000000</td>\n",
              "      <td>9.000000</td>\n",
              "      <td>5.320000</td>\n",
              "      <td>3.000000</td>\n",
              "      <td>566.072500</td>\n",
              "      <td>28.052567</td>\n",
              "      <td>30.306660</td>\n",
              "      <td>74.534002</td>\n",
              "      <td>2.700922e+02</td>\n",
              "    </tr>\n",
              "    <tr>\n",
              "      <th>50%</th>\n",
              "      <td>33.000000</td>\n",
              "      <td>3.757861e+04</td>\n",
              "      <td>3093.745000</td>\n",
              "      <td>6.000000</td>\n",
              "      <td>5.00000</td>\n",
              "      <td>13.000000</td>\n",
              "      <td>3.000000</td>\n",
              "      <td>18.000000</td>\n",
              "      <td>14.000000</td>\n",
              "      <td>9.400000</td>\n",
              "      <td>6.000000</td>\n",
              "      <td>1166.155000</td>\n",
              "      <td>32.305784</td>\n",
              "      <td>69.249473</td>\n",
              "      <td>135.925682</td>\n",
              "      <td>3.367192e+02</td>\n",
              "    </tr>\n",
              "    <tr>\n",
              "      <th>75%</th>\n",
              "      <td>42.000000</td>\n",
              "      <td>7.279092e+04</td>\n",
              "      <td>5957.448333</td>\n",
              "      <td>7.000000</td>\n",
              "      <td>7.00000</td>\n",
              "      <td>20.000000</td>\n",
              "      <td>5.000000</td>\n",
              "      <td>28.000000</td>\n",
              "      <td>18.000000</td>\n",
              "      <td>14.870000</td>\n",
              "      <td>9.000000</td>\n",
              "      <td>1945.962500</td>\n",
              "      <td>36.496663</td>\n",
              "      <td>161.224249</td>\n",
              "      <td>265.731733</td>\n",
              "      <td>4.702202e+02</td>\n",
              "    </tr>\n",
              "    <tr>\n",
              "      <th>max</th>\n",
              "      <td>8698.000000</td>\n",
              "      <td>2.419806e+07</td>\n",
              "      <td>15204.633333</td>\n",
              "      <td>1798.000000</td>\n",
              "      <td>1499.00000</td>\n",
              "      <td>5797.000000</td>\n",
              "      <td>1496.000000</td>\n",
              "      <td>67.000000</td>\n",
              "      <td>4397.000000</td>\n",
              "      <td>36.970000</td>\n",
              "      <td>2597.000000</td>\n",
              "      <td>4998.070000</td>\n",
              "      <td>50.000000</td>\n",
              "      <td>82331.000000</td>\n",
              "      <td>10000.000000</td>\n",
              "      <td>1.602041e+03</td>\n",
              "    </tr>\n",
              "  </tbody>\n",
              "</table>\n",
              "</div>\n",
              "      <button class=\"colab-df-convert\" onclick=\"convertToInteractive('df-2cc11538-4b42-4b58-a920-a54bfa4daa9d')\"\n",
              "              title=\"Convert this dataframe to an interactive table.\"\n",
              "              style=\"display:none;\">\n",
              "        \n",
              "  <svg xmlns=\"http://www.w3.org/2000/svg\" height=\"24px\"viewBox=\"0 0 24 24\"\n",
              "       width=\"24px\">\n",
              "    <path d=\"M0 0h24v24H0V0z\" fill=\"none\"/>\n",
              "    <path d=\"M18.56 5.44l.94 2.06.94-2.06 2.06-.94-2.06-.94-.94-2.06-.94 2.06-2.06.94zm-11 1L8.5 8.5l.94-2.06 2.06-.94-2.06-.94L8.5 2.5l-.94 2.06-2.06.94zm10 10l.94 2.06.94-2.06 2.06-.94-2.06-.94-.94-2.06-.94 2.06-2.06.94z\"/><path d=\"M17.41 7.96l-1.37-1.37c-.4-.4-.92-.59-1.43-.59-.52 0-1.04.2-1.43.59L10.3 9.45l-7.72 7.72c-.78.78-.78 2.05 0 2.83L4 21.41c.39.39.9.59 1.41.59.51 0 1.02-.2 1.41-.59l7.78-7.78 2.81-2.81c.8-.78.8-2.07 0-2.86zM5.41 20L4 18.59l7.72-7.72 1.47 1.35L5.41 20z\"/>\n",
              "  </svg>\n",
              "      </button>\n",
              "      \n",
              "  <style>\n",
              "    .colab-df-container {\n",
              "      display:flex;\n",
              "      flex-wrap:wrap;\n",
              "      gap: 12px;\n",
              "    }\n",
              "\n",
              "    .colab-df-convert {\n",
              "      background-color: #E8F0FE;\n",
              "      border: none;\n",
              "      border-radius: 50%;\n",
              "      cursor: pointer;\n",
              "      display: none;\n",
              "      fill: #1967D2;\n",
              "      height: 32px;\n",
              "      padding: 0 0 0 0;\n",
              "      width: 32px;\n",
              "    }\n",
              "\n",
              "    .colab-df-convert:hover {\n",
              "      background-color: #E2EBFA;\n",
              "      box-shadow: 0px 1px 2px rgba(60, 64, 67, 0.3), 0px 1px 3px 1px rgba(60, 64, 67, 0.15);\n",
              "      fill: #174EA6;\n",
              "    }\n",
              "\n",
              "    [theme=dark] .colab-df-convert {\n",
              "      background-color: #3B4455;\n",
              "      fill: #D2E3FC;\n",
              "    }\n",
              "\n",
              "    [theme=dark] .colab-df-convert:hover {\n",
              "      background-color: #434B5C;\n",
              "      box-shadow: 0px 1px 3px 1px rgba(0, 0, 0, 0.15);\n",
              "      filter: drop-shadow(0px 1px 2px rgba(0, 0, 0, 0.3));\n",
              "      fill: #FFFFFF;\n",
              "    }\n",
              "  </style>\n",
              "\n",
              "      <script>\n",
              "        const buttonEl =\n",
              "          document.querySelector('#df-2cc11538-4b42-4b58-a920-a54bfa4daa9d button.colab-df-convert');\n",
              "        buttonEl.style.display =\n",
              "          google.colab.kernel.accessAllowed ? 'block' : 'none';\n",
              "\n",
              "        async function convertToInteractive(key) {\n",
              "          const element = document.querySelector('#df-2cc11538-4b42-4b58-a920-a54bfa4daa9d');\n",
              "          const dataTable =\n",
              "            await google.colab.kernel.invokeFunction('convertToInteractive',\n",
              "                                                     [key], {});\n",
              "          if (!dataTable) return;\n",
              "\n",
              "          const docLinkHtml = 'Like what you see? Visit the ' +\n",
              "            '<a target=\"_blank\" href=https://colab.research.google.com/notebooks/data_table.ipynb>data table notebook</a>'\n",
              "            + ' to learn more about interactive tables.';\n",
              "          element.innerHTML = '';\n",
              "          dataTable['output_type'] = 'display_data';\n",
              "          await google.colab.output.renderOutput(dataTable, element);\n",
              "          const docLink = document.createElement('div');\n",
              "          docLink.innerHTML = docLinkHtml;\n",
              "          element.appendChild(docLink);\n",
              "        }\n",
              "      </script>\n",
              "    </div>\n",
              "  </div>\n",
              "  "
            ]
          },
          "metadata": {},
          "execution_count": 17
        }
      ]
    },
    {
      "cell_type": "code",
      "source": [
        "rows_to_drop =  df[\n",
        "    # Из соображений логики, возраст клиента должен быть в диапазоне 0 < Age < 100\n",
        "    ((df['Age'] <= 0) | (df['Age'] >= 100)) |\n",
        "    # Также из соображений логики, количество банковских счетов не может быть отрицательным\n",
        "    (df['Num_of_Loan']  < 0) | (df['Num_of_Loan']  > df['Num_of_Loan' ].quantile(0.995)) |\n",
        "    (df['Num_of_Delayed_Payment']  < 0) | (df['Num_of_Delayed_Payment']  > df['Num_of_Delayed_Payment' ].quantile(0.995)) |\n",
        "    (df['Num_Bank_Accounts']  < 0) | (df['Num_Bank_Accounts']  > df['Num_Bank_Accounts' ].quantile(0.995)) |\n",
        "    (df['Num_Credit_Card']  < df['Num_Credit_Card'].quantile(0.005)) | (df['Num_Credit_Card']  > df['Num_Credit_Card'].quantile(0.995)) |\n",
        "    (df['Interest_Rate']  < df['Interest_Rate'].quantile(0.005)) | (df['Interest_Rate']  > df['Interest_Rate'].quantile(0.995)) |\n",
        "    (df['Total_EMI_per_month']  < df['Total_EMI_per_month'].quantile(0.005)) | (df['Total_EMI_per_month']  > df['Total_EMI_per_month'].quantile(0.995)) |\n",
        "    (df['Annual_Income']  < df['Annual_Income'].quantile(0.005)) | (df['Annual_Income']  > df['Annual_Income'].quantile(0.995)) |\n",
        "    (df['Monthly_Balance']  < df['Monthly_Balance'].quantile(0.005)) | (df['Monthly_Balance']  > df['Monthly_Balance'].quantile(0.995)) |\n",
        "    (df['Num_Credit_Inquiries']  < df['Num_Credit_Inquiries'].quantile(0.005)) | (df['Num_Credit_Inquiries']  > df['Num_Credit_Inquiries'].quantile(0.995))].index\n",
        "df_clear = df.drop(rows_to_drop)\n",
        "\n",
        "df_clear.describe()"
      ],
      "metadata": {
        "id": "2pVYO28aX5r_",
        "colab": {
          "base_uri": "https://localhost:8080/",
          "height": 364
        },
        "outputId": "f8c2d521-4966-4ce2-a0ce-4a4ceb104a38"
      },
      "execution_count": null,
      "outputs": [
        {
          "output_type": "execute_result",
          "data": {
            "text/plain": [
              "                Age  Annual_Income  Monthly_Inhand_Salary  Num_Bank_Accounts  \\\n",
              "count  87887.000000   8.788700e+04           74725.000000       87887.000000   \n",
              "mean      33.291454   8.384062e+04            4147.281226           9.954510   \n",
              "std       10.777875   5.490343e+05            3111.906500          57.897614   \n",
              "min       14.000000   7.230615e+03             319.556250           0.000000   \n",
              "25%       24.000000   1.942803e+04            1628.144167           4.000000   \n",
              "50%       33.000000   3.696676e+04            3074.806667           6.000000   \n",
              "75%       42.000000   7.160812e+04            5909.096667           7.000000   \n",
              "max       99.000000   1.292080e+07           15204.633333        1096.000000   \n",
              "\n",
              "       Num_Credit_Card  Interest_Rate   Num_of_Loan  Delay_from_due_date  \\\n",
              "count     87887.000000   87887.000000  87887.000000         87887.000000   \n",
              "mean         15.891588      47.359257      3.541673            21.161935   \n",
              "std          89.281871     303.591315      2.442501            14.842033   \n",
              "min           1.000000       1.000000      0.000000            -5.000000   \n",
              "25%           4.000000       8.000000      2.000000            10.000000   \n",
              "50%           5.000000      13.000000      3.000000            18.000000   \n",
              "75%           7.000000      20.000000      5.000000            28.000000   \n",
              "max        1177.000000    4311.000000      9.000000            67.000000   \n",
              "\n",
              "       Num_of_Delayed_Payment  Changed_Credit_Limit  Num_Credit_Inquiries  \\\n",
              "count            81681.000000          86062.000000          86168.000000   \n",
              "mean                16.043058             10.427116             16.756012   \n",
              "std                 55.441798              6.800461            114.510164   \n",
              "min                  0.000000             -6.480000              0.000000   \n",
              "25%                  9.000000              5.360000              3.000000   \n",
              "50%                 14.000000              9.440000              6.000000   \n",
              "75%                 18.000000             14.950000              9.000000   \n",
              "max               1732.000000             36.490000           1820.000000   \n",
              "\n",
              "       Outstanding_Debt  Credit_Utilization_Ratio  Total_EMI_per_month  \\\n",
              "count      87887.000000              87887.000000         87887.000000   \n",
              "mean        1429.441580                 32.256829          1030.521043   \n",
              "std         1156.340109                  5.091133          6431.031843   \n",
              "min            0.230000                 20.000000             0.000000   \n",
              "25%          566.980000                 28.046211            30.519958   \n",
              "50%         1168.420000                 32.272919            68.731992   \n",
              "75%         1954.620000                 36.476546           158.038909   \n",
              "max         4998.070000                 47.480752         68937.000000   \n",
              "\n",
              "       Amount_invested_monthly  Monthly_Balance  \n",
              "count             83978.000000     86799.000000  \n",
              "mean                632.387777       399.572241  \n",
              "std                2035.819678       202.531607  \n",
              "min                   0.000000        38.009577  \n",
              "25%                  74.664738       270.670585  \n",
              "50%                 135.215412       337.122196  \n",
              "75%                 262.858076       467.753519  \n",
              "max               10000.000000      1235.389758  "
            ],
            "text/html": [
              "\n",
              "  <div id=\"df-495e7c33-b3a8-48c9-bf8f-f83885005732\">\n",
              "    <div class=\"colab-df-container\">\n",
              "      <div>\n",
              "<style scoped>\n",
              "    .dataframe tbody tr th:only-of-type {\n",
              "        vertical-align: middle;\n",
              "    }\n",
              "\n",
              "    .dataframe tbody tr th {\n",
              "        vertical-align: top;\n",
              "    }\n",
              "\n",
              "    .dataframe thead th {\n",
              "        text-align: right;\n",
              "    }\n",
              "</style>\n",
              "<table border=\"1\" class=\"dataframe\">\n",
              "  <thead>\n",
              "    <tr style=\"text-align: right;\">\n",
              "      <th></th>\n",
              "      <th>Age</th>\n",
              "      <th>Annual_Income</th>\n",
              "      <th>Monthly_Inhand_Salary</th>\n",
              "      <th>Num_Bank_Accounts</th>\n",
              "      <th>Num_Credit_Card</th>\n",
              "      <th>Interest_Rate</th>\n",
              "      <th>Num_of_Loan</th>\n",
              "      <th>Delay_from_due_date</th>\n",
              "      <th>Num_of_Delayed_Payment</th>\n",
              "      <th>Changed_Credit_Limit</th>\n",
              "      <th>Num_Credit_Inquiries</th>\n",
              "      <th>Outstanding_Debt</th>\n",
              "      <th>Credit_Utilization_Ratio</th>\n",
              "      <th>Total_EMI_per_month</th>\n",
              "      <th>Amount_invested_monthly</th>\n",
              "      <th>Monthly_Balance</th>\n",
              "    </tr>\n",
              "  </thead>\n",
              "  <tbody>\n",
              "    <tr>\n",
              "      <th>count</th>\n",
              "      <td>87887.000000</td>\n",
              "      <td>8.788700e+04</td>\n",
              "      <td>74725.000000</td>\n",
              "      <td>87887.000000</td>\n",
              "      <td>87887.000000</td>\n",
              "      <td>87887.000000</td>\n",
              "      <td>87887.000000</td>\n",
              "      <td>87887.000000</td>\n",
              "      <td>81681.000000</td>\n",
              "      <td>86062.000000</td>\n",
              "      <td>86168.000000</td>\n",
              "      <td>87887.000000</td>\n",
              "      <td>87887.000000</td>\n",
              "      <td>87887.000000</td>\n",
              "      <td>83978.000000</td>\n",
              "      <td>86799.000000</td>\n",
              "    </tr>\n",
              "    <tr>\n",
              "      <th>mean</th>\n",
              "      <td>33.291454</td>\n",
              "      <td>8.384062e+04</td>\n",
              "      <td>4147.281226</td>\n",
              "      <td>9.954510</td>\n",
              "      <td>15.891588</td>\n",
              "      <td>47.359257</td>\n",
              "      <td>3.541673</td>\n",
              "      <td>21.161935</td>\n",
              "      <td>16.043058</td>\n",
              "      <td>10.427116</td>\n",
              "      <td>16.756012</td>\n",
              "      <td>1429.441580</td>\n",
              "      <td>32.256829</td>\n",
              "      <td>1030.521043</td>\n",
              "      <td>632.387777</td>\n",
              "      <td>399.572241</td>\n",
              "    </tr>\n",
              "    <tr>\n",
              "      <th>std</th>\n",
              "      <td>10.777875</td>\n",
              "      <td>5.490343e+05</td>\n",
              "      <td>3111.906500</td>\n",
              "      <td>57.897614</td>\n",
              "      <td>89.281871</td>\n",
              "      <td>303.591315</td>\n",
              "      <td>2.442501</td>\n",
              "      <td>14.842033</td>\n",
              "      <td>55.441798</td>\n",
              "      <td>6.800461</td>\n",
              "      <td>114.510164</td>\n",
              "      <td>1156.340109</td>\n",
              "      <td>5.091133</td>\n",
              "      <td>6431.031843</td>\n",
              "      <td>2035.819678</td>\n",
              "      <td>202.531607</td>\n",
              "    </tr>\n",
              "    <tr>\n",
              "      <th>min</th>\n",
              "      <td>14.000000</td>\n",
              "      <td>7.230615e+03</td>\n",
              "      <td>319.556250</td>\n",
              "      <td>0.000000</td>\n",
              "      <td>1.000000</td>\n",
              "      <td>1.000000</td>\n",
              "      <td>0.000000</td>\n",
              "      <td>-5.000000</td>\n",
              "      <td>0.000000</td>\n",
              "      <td>-6.480000</td>\n",
              "      <td>0.000000</td>\n",
              "      <td>0.230000</td>\n",
              "      <td>20.000000</td>\n",
              "      <td>0.000000</td>\n",
              "      <td>0.000000</td>\n",
              "      <td>38.009577</td>\n",
              "    </tr>\n",
              "    <tr>\n",
              "      <th>25%</th>\n",
              "      <td>24.000000</td>\n",
              "      <td>1.942803e+04</td>\n",
              "      <td>1628.144167</td>\n",
              "      <td>4.000000</td>\n",
              "      <td>4.000000</td>\n",
              "      <td>8.000000</td>\n",
              "      <td>2.000000</td>\n",
              "      <td>10.000000</td>\n",
              "      <td>9.000000</td>\n",
              "      <td>5.360000</td>\n",
              "      <td>3.000000</td>\n",
              "      <td>566.980000</td>\n",
              "      <td>28.046211</td>\n",
              "      <td>30.519958</td>\n",
              "      <td>74.664738</td>\n",
              "      <td>270.670585</td>\n",
              "    </tr>\n",
              "    <tr>\n",
              "      <th>50%</th>\n",
              "      <td>33.000000</td>\n",
              "      <td>3.696676e+04</td>\n",
              "      <td>3074.806667</td>\n",
              "      <td>6.000000</td>\n",
              "      <td>5.000000</td>\n",
              "      <td>13.000000</td>\n",
              "      <td>3.000000</td>\n",
              "      <td>18.000000</td>\n",
              "      <td>14.000000</td>\n",
              "      <td>9.440000</td>\n",
              "      <td>6.000000</td>\n",
              "      <td>1168.420000</td>\n",
              "      <td>32.272919</td>\n",
              "      <td>68.731992</td>\n",
              "      <td>135.215412</td>\n",
              "      <td>337.122196</td>\n",
              "    </tr>\n",
              "    <tr>\n",
              "      <th>75%</th>\n",
              "      <td>42.000000</td>\n",
              "      <td>7.160812e+04</td>\n",
              "      <td>5909.096667</td>\n",
              "      <td>7.000000</td>\n",
              "      <td>7.000000</td>\n",
              "      <td>20.000000</td>\n",
              "      <td>5.000000</td>\n",
              "      <td>28.000000</td>\n",
              "      <td>18.000000</td>\n",
              "      <td>14.950000</td>\n",
              "      <td>9.000000</td>\n",
              "      <td>1954.620000</td>\n",
              "      <td>36.476546</td>\n",
              "      <td>158.038909</td>\n",
              "      <td>262.858076</td>\n",
              "      <td>467.753519</td>\n",
              "    </tr>\n",
              "    <tr>\n",
              "      <th>max</th>\n",
              "      <td>99.000000</td>\n",
              "      <td>1.292080e+07</td>\n",
              "      <td>15204.633333</td>\n",
              "      <td>1096.000000</td>\n",
              "      <td>1177.000000</td>\n",
              "      <td>4311.000000</td>\n",
              "      <td>9.000000</td>\n",
              "      <td>67.000000</td>\n",
              "      <td>1732.000000</td>\n",
              "      <td>36.490000</td>\n",
              "      <td>1820.000000</td>\n",
              "      <td>4998.070000</td>\n",
              "      <td>47.480752</td>\n",
              "      <td>68937.000000</td>\n",
              "      <td>10000.000000</td>\n",
              "      <td>1235.389758</td>\n",
              "    </tr>\n",
              "  </tbody>\n",
              "</table>\n",
              "</div>\n",
              "      <button class=\"colab-df-convert\" onclick=\"convertToInteractive('df-495e7c33-b3a8-48c9-bf8f-f83885005732')\"\n",
              "              title=\"Convert this dataframe to an interactive table.\"\n",
              "              style=\"display:none;\">\n",
              "        \n",
              "  <svg xmlns=\"http://www.w3.org/2000/svg\" height=\"24px\"viewBox=\"0 0 24 24\"\n",
              "       width=\"24px\">\n",
              "    <path d=\"M0 0h24v24H0V0z\" fill=\"none\"/>\n",
              "    <path d=\"M18.56 5.44l.94 2.06.94-2.06 2.06-.94-2.06-.94-.94-2.06-.94 2.06-2.06.94zm-11 1L8.5 8.5l.94-2.06 2.06-.94-2.06-.94L8.5 2.5l-.94 2.06-2.06.94zm10 10l.94 2.06.94-2.06 2.06-.94-2.06-.94-.94-2.06-.94 2.06-2.06.94z\"/><path d=\"M17.41 7.96l-1.37-1.37c-.4-.4-.92-.59-1.43-.59-.52 0-1.04.2-1.43.59L10.3 9.45l-7.72 7.72c-.78.78-.78 2.05 0 2.83L4 21.41c.39.39.9.59 1.41.59.51 0 1.02-.2 1.41-.59l7.78-7.78 2.81-2.81c.8-.78.8-2.07 0-2.86zM5.41 20L4 18.59l7.72-7.72 1.47 1.35L5.41 20z\"/>\n",
              "  </svg>\n",
              "      </button>\n",
              "      \n",
              "  <style>\n",
              "    .colab-df-container {\n",
              "      display:flex;\n",
              "      flex-wrap:wrap;\n",
              "      gap: 12px;\n",
              "    }\n",
              "\n",
              "    .colab-df-convert {\n",
              "      background-color: #E8F0FE;\n",
              "      border: none;\n",
              "      border-radius: 50%;\n",
              "      cursor: pointer;\n",
              "      display: none;\n",
              "      fill: #1967D2;\n",
              "      height: 32px;\n",
              "      padding: 0 0 0 0;\n",
              "      width: 32px;\n",
              "    }\n",
              "\n",
              "    .colab-df-convert:hover {\n",
              "      background-color: #E2EBFA;\n",
              "      box-shadow: 0px 1px 2px rgba(60, 64, 67, 0.3), 0px 1px 3px 1px rgba(60, 64, 67, 0.15);\n",
              "      fill: #174EA6;\n",
              "    }\n",
              "\n",
              "    [theme=dark] .colab-df-convert {\n",
              "      background-color: #3B4455;\n",
              "      fill: #D2E3FC;\n",
              "    }\n",
              "\n",
              "    [theme=dark] .colab-df-convert:hover {\n",
              "      background-color: #434B5C;\n",
              "      box-shadow: 0px 1px 3px 1px rgba(0, 0, 0, 0.15);\n",
              "      filter: drop-shadow(0px 1px 2px rgba(0, 0, 0, 0.3));\n",
              "      fill: #FFFFFF;\n",
              "    }\n",
              "  </style>\n",
              "\n",
              "      <script>\n",
              "        const buttonEl =\n",
              "          document.querySelector('#df-495e7c33-b3a8-48c9-bf8f-f83885005732 button.colab-df-convert');\n",
              "        buttonEl.style.display =\n",
              "          google.colab.kernel.accessAllowed ? 'block' : 'none';\n",
              "\n",
              "        async function convertToInteractive(key) {\n",
              "          const element = document.querySelector('#df-495e7c33-b3a8-48c9-bf8f-f83885005732');\n",
              "          const dataTable =\n",
              "            await google.colab.kernel.invokeFunction('convertToInteractive',\n",
              "                                                     [key], {});\n",
              "          if (!dataTable) return;\n",
              "\n",
              "          const docLinkHtml = 'Like what you see? Visit the ' +\n",
              "            '<a target=\"_blank\" href=https://colab.research.google.com/notebooks/data_table.ipynb>data table notebook</a>'\n",
              "            + ' to learn more about interactive tables.';\n",
              "          element.innerHTML = '';\n",
              "          dataTable['output_type'] = 'display_data';\n",
              "          await google.colab.output.renderOutput(dataTable, element);\n",
              "          const docLink = document.createElement('div');\n",
              "          docLink.innerHTML = docLinkHtml;\n",
              "          element.appendChild(docLink);\n",
              "        }\n",
              "      </script>\n",
              "    </div>\n",
              "  </div>\n",
              "  "
            ]
          },
          "metadata": {},
          "execution_count": 18
        }
      ]
    },
    {
      "cell_type": "code",
      "source": [
        "df_clear.isna().sum()"
      ],
      "metadata": {
        "colab": {
          "base_uri": "https://localhost:8080/"
        },
        "id": "UBQY5jFCp0jr",
        "outputId": "8e6bc3e8-ebce-43fd-b506-e46e840e244c"
      },
      "execution_count": null,
      "outputs": [
        {
          "output_type": "execute_result",
          "data": {
            "text/plain": [
              "Month                           0\n",
              "Age                             0\n",
              "Occupation                   6191\n",
              "Annual_Income                   0\n",
              "Monthly_Inhand_Salary       13162\n",
              "Num_Bank_Accounts               0\n",
              "Num_Credit_Card                 0\n",
              "Interest_Rate                   0\n",
              "Num_of_Loan                     0\n",
              "Type_of_Loan                 9877\n",
              "Delay_from_due_date             0\n",
              "Num_of_Delayed_Payment       6206\n",
              "Changed_Credit_Limit         1825\n",
              "Num_Credit_Inquiries         1719\n",
              "Credit_Mix                  17776\n",
              "Outstanding_Debt                0\n",
              "Credit_Utilization_Ratio        0\n",
              "Credit_History_Age           7978\n",
              "Payment_of_Min_Amount           0\n",
              "Total_EMI_per_month             0\n",
              "Amount_invested_monthly      3909\n",
              "Payment_Behaviour            6673\n",
              "Monthly_Balance              1088\n",
              "Credit_Score                    0\n",
              "dtype: int64"
            ]
          },
          "metadata": {},
          "execution_count": 19
        }
      ]
    },
    {
      "cell_type": "markdown",
      "source": [
        "# Далее нужно разобраться с пустыми значениями"
      ],
      "metadata": {
        "id": "3GBNhsIk5Atw"
      }
    },
    {
      "cell_type": "code",
      "source": [
        "categorical_columns = [c for c in df_clear.columns if df_clear[c].dtype.name == 'object']\n",
        "numerical_columns   = [c for c in df_clear.columns if df_clear[c].dtype.name != 'object']\n",
        "print('categorical_columns', categorical_columns)\n",
        "print('numerical_columns', numerical_columns)"
      ],
      "metadata": {
        "id": "mZQGFNsxU60O",
        "colab": {
          "base_uri": "https://localhost:8080/"
        },
        "outputId": "df087513-7bc3-4bc0-8b69-691707afbd78"
      },
      "execution_count": null,
      "outputs": [
        {
          "output_type": "stream",
          "name": "stdout",
          "text": [
            "categorical_columns ['Month', 'Occupation', 'Type_of_Loan', 'Credit_Mix', 'Credit_History_Age', 'Payment_of_Min_Amount', 'Payment_Behaviour', 'Credit_Score']\n",
            "numerical_columns ['Age', 'Annual_Income', 'Monthly_Inhand_Salary', 'Num_Bank_Accounts', 'Num_Credit_Card', 'Interest_Rate', 'Num_of_Loan', 'Delay_from_due_date', 'Num_of_Delayed_Payment', 'Changed_Credit_Limit', 'Num_Credit_Inquiries', 'Outstanding_Debt', 'Credit_Utilization_Ratio', 'Total_EMI_per_month', 'Amount_invested_monthly', 'Monthly_Balance']\n"
          ]
        }
      ]
    },
    {
      "cell_type": "markdown",
      "source": [
        "Для номинальных признаков"
      ],
      "metadata": {
        "id": "oULmWagk72gV"
      }
    },
    {
      "cell_type": "code",
      "source": [
        "df_clear = df_clear.fillna(df_clear.median(axis = 0), axis = 0)\n",
        "df_clear.isna().sum()"
      ],
      "metadata": {
        "colab": {
          "base_uri": "https://localhost:8080/"
        },
        "id": "SGDICFhk6s7Z",
        "outputId": "7073d07d-1b49-4062-ad9d-56fe578e9e10"
      },
      "execution_count": null,
      "outputs": [
        {
          "output_type": "stream",
          "name": "stderr",
          "text": [
            "<ipython-input-21-443caba7ce89>:1: FutureWarning: Dropping of nuisance columns in DataFrame reductions (with 'numeric_only=None') is deprecated; in a future version this will raise TypeError.  Select only valid columns before calling the reduction.\n",
            "  df_clear = df_clear.fillna(df_clear.median(axis = 0), axis = 0)\n"
          ]
        },
        {
          "output_type": "execute_result",
          "data": {
            "text/plain": [
              "Month                           0\n",
              "Age                             0\n",
              "Occupation                   6191\n",
              "Annual_Income                   0\n",
              "Monthly_Inhand_Salary           0\n",
              "Num_Bank_Accounts               0\n",
              "Num_Credit_Card                 0\n",
              "Interest_Rate                   0\n",
              "Num_of_Loan                     0\n",
              "Type_of_Loan                 9877\n",
              "Delay_from_due_date             0\n",
              "Num_of_Delayed_Payment          0\n",
              "Changed_Credit_Limit            0\n",
              "Num_Credit_Inquiries            0\n",
              "Credit_Mix                  17776\n",
              "Outstanding_Debt                0\n",
              "Credit_Utilization_Ratio        0\n",
              "Credit_History_Age           7978\n",
              "Payment_of_Min_Amount           0\n",
              "Total_EMI_per_month             0\n",
              "Amount_invested_monthly         0\n",
              "Payment_Behaviour            6673\n",
              "Monthly_Balance                 0\n",
              "Credit_Score                    0\n",
              "dtype: int64"
            ]
          },
          "metadata": {},
          "execution_count": 21
        }
      ]
    },
    {
      "cell_type": "markdown",
      "source": [
        "Для категориальных признаков"
      ],
      "metadata": {
        "id": "XDZ_JL_u76dC"
      }
    },
    {
      "cell_type": "code",
      "source": [
        "data_describe = df_clear.describe(include = [object])\n",
        "for c in categorical_columns:\n",
        "    df_clear[c] = df_clear[c].fillna(data_describe[c]['top'])"
      ],
      "metadata": {
        "id": "HQXZ4gSM79Nw"
      },
      "execution_count": null,
      "outputs": []
    },
    {
      "cell_type": "code",
      "source": [
        "df_clear.isna().sum()"
      ],
      "metadata": {
        "id": "IMtnCIjcXSQ_",
        "colab": {
          "base_uri": "https://localhost:8080/"
        },
        "outputId": "7117d7d8-0f98-4e8c-8523-c730a787409b"
      },
      "execution_count": null,
      "outputs": [
        {
          "output_type": "execute_result",
          "data": {
            "text/plain": [
              "Month                       0\n",
              "Age                         0\n",
              "Occupation                  0\n",
              "Annual_Income               0\n",
              "Monthly_Inhand_Salary       0\n",
              "Num_Bank_Accounts           0\n",
              "Num_Credit_Card             0\n",
              "Interest_Rate               0\n",
              "Num_of_Loan                 0\n",
              "Type_of_Loan                0\n",
              "Delay_from_due_date         0\n",
              "Num_of_Delayed_Payment      0\n",
              "Changed_Credit_Limit        0\n",
              "Num_Credit_Inquiries        0\n",
              "Credit_Mix                  0\n",
              "Outstanding_Debt            0\n",
              "Credit_Utilization_Ratio    0\n",
              "Credit_History_Age          0\n",
              "Payment_of_Min_Amount       0\n",
              "Total_EMI_per_month         0\n",
              "Amount_invested_monthly     0\n",
              "Payment_Behaviour           0\n",
              "Monthly_Balance             0\n",
              "Credit_Score                0\n",
              "dtype: int64"
            ]
          },
          "metadata": {},
          "execution_count": 23
        }
      ]
    },
    {
      "cell_type": "markdown",
      "source": [
        "# Анализ данных"
      ],
      "metadata": {
        "id": "AH-_beff8ckX"
      }
    },
    {
      "cell_type": "code",
      "source": [
        "import seaborn as sns\n",
        "sns.countplot(df_clear['Credit_Score'])"
      ],
      "metadata": {
        "colab": {
          "base_uri": "https://localhost:8080/",
          "height": 355
        },
        "id": "knCibt9RGi8T",
        "outputId": "5e4d5f10-9800-4ef8-9a2a-eb94104518fe"
      },
      "execution_count": null,
      "outputs": [
        {
          "output_type": "stream",
          "name": "stderr",
          "text": [
            "/usr/local/lib/python3.8/dist-packages/seaborn/_decorators.py:36: FutureWarning: Pass the following variable as a keyword arg: x. From version 0.12, the only valid positional argument will be `data`, and passing other arguments without an explicit keyword will result in an error or misinterpretation.\n",
            "  warnings.warn(\n"
          ]
        },
        {
          "output_type": "execute_result",
          "data": {
            "text/plain": [
              "<matplotlib.axes._subplots.AxesSubplot at 0x7fdfe4f5ac70>"
            ]
          },
          "metadata": {},
          "execution_count": 24
        },
        {
          "output_type": "display_data",
          "data": {
            "text/plain": [
              "<Figure size 432x288 with 1 Axes>"
            ],
            "image/png": "[encoded data removed]"
          },
          "metadata": {
            "needs_background": "light"
          }
        }
      ]
    },
    {
      "cell_type": "code",
      "source": [
        "sns.heatmap(df_clear.corr())"
      ],
      "metadata": {
        "colab": {
          "base_uri": "https://localhost:8080/",
          "height": 410
        },
        "id": "0CNsccFj8t_K",
        "outputId": "2d1804b2-2ab5-4fb4-9af8-369ac19334f2"
      },
      "execution_count": null,
      "outputs": [
        {
          "output_type": "execute_result",
          "data": {
            "text/plain": [
              "<matplotlib.axes._subplots.AxesSubplot at 0x7fdfec763ac0>"
            ]
          },
          "metadata": {},
          "execution_count": 25
        },
        {
          "output_type": "display_data",
          "data": {
            "text/plain": [
              "<Figure size 432x288 with 2 Axes>"
            ],
            "image/png": "[encoded data removed]"
          },
          "metadata": {
            "needs_background": "light"
          }
        }
      ]
    },
    {
      "cell_type": "code",
      "source": [
        "binary_columns    = [c for c in categorical_columns if data_describe[c]['unique'] == 2]\n",
        "nonbinary_columns = [c for c in categorical_columns if data_describe[c]['unique'] > 2]\n",
        "print(binary_columns, nonbinary_columns)"
      ],
      "metadata": {
        "colab": {
          "base_uri": "https://localhost:8080/"
        },
        "id": "CNd7uyxhHNIk",
        "outputId": "f8e2c779-cfd4-49b8-ca0e-aef37cb72e8b"
      },
      "execution_count": null,
      "outputs": [
        {
          "output_type": "stream",
          "name": "stdout",
          "text": [
            "[] ['Month', 'Occupation', 'Type_of_Loan', 'Credit_Mix', 'Credit_History_Age', 'Payment_of_Min_Amount', 'Payment_Behaviour', 'Credit_Score']\n"
          ]
        }
      ]
    },
    {
      "cell_type": "code",
      "source": [
        "print(df_clear['Credit_Score'].unique())\n",
        "print(len(df_clear['Credit_Score'].unique()))\n"
      ],
      "metadata": {
        "colab": {
          "base_uri": "https://localhost:8080/"
        },
        "id": "FelyKNEYIJ7W",
        "outputId": "e92d9c28-e894-400e-9453-d8c13229641e"
      },
      "execution_count": null,
      "outputs": [
        {
          "output_type": "stream",
          "name": "stdout",
          "text": [
            "['Good' 'Standard' 'Poor']\n",
            "3\n"
          ]
        }
      ]
    },
    {
      "cell_type": "code",
      "source": [
        "Month = {'January': 'winter',\n",
        "         'February': 'winter',\n",
        "         'March': 'spring',\n",
        "         'April': 'spring',\n",
        "         'May': 'spring',\n",
        "         'June': 'summer', \n",
        "         'July': 'summer',\n",
        "         'August': 'summer'}\n",
        "\n",
        "# Переводим Month в бинарные признаки\n",
        "df_month = df_clear['Month'].map(Month)\n",
        "df_dummies_month = pd.get_dummies(df_month)\n",
        "df_bin = pd.concat((df_clear, df_dummies_month), axis=1)\n",
        "df_bin = df_bin.drop(['Month'], axis=1)\n",
        "\n",
        "# Переводим Occupation в бинарные признаки\n",
        "df_occ = pd.get_dummies(df_clear['Occupation'])\n",
        "df_bin = pd.concat((df_bin, df_occ), axis=1)\n",
        "df_bin = df_bin.drop(['Occupation'], axis=1)\n",
        "\n",
        "# Т.к. у нас есть признак Total_EMI_per_month - означающий общую сумму платежа в месяц, \n",
        "# то признак Type_of_loan не несет дополнительной полезной информации, а только\n",
        "# увеличивает сложность предобработки. Поэтому этот признак целесообразно убрать.\n",
        "df_bin = df_bin.drop(['Type_of_Loan'], axis=1)\n",
        "\n",
        "# Переводим признак Credit_Mix \n",
        "df_mix = pd.get_dummies(df_bin['Credit_Mix'])\n",
        "df_bin = pd.concat((df_bin, df_mix), axis=1)\n",
        "df_bin = df_bin.drop(['Credit_Mix'], axis=1)\n",
        "\n",
        "# Credit_History_Age\n",
        "import re\n",
        "def date_to_num(s):\n",
        "    elem = re.findall('\\d+', s)\n",
        "    return int(elem[0]) * 12 + int(elem[1])\n",
        "\n",
        "df_age = df_bin['Credit_History_Age'].map(date_to_num)\n",
        "df_bin = df_bin.drop(['Credit_History_Age'], axis=1)\n",
        "df_bin = pd.concat((df_bin, df_age), axis=1)\n",
        "\n",
        "# Payment_of_Min_Amount\n",
        "df_pay = pd.get_dummies(df_bin['Payment_of_Min_Amount'])\n",
        "df_bin = pd.concat((df_bin, df_pay), axis=1)\n",
        "df_bin = df_bin.drop(['Payment_of_Min_Amount'], axis=1)\n",
        "\n",
        "# Payment_Behaviour\n",
        "df_pay = pd.get_dummies(df_bin['Payment_Behaviour'])\n",
        "df_bin = pd.concat((df_bin, df_pay), axis=1)\n",
        "df_bin = df_bin.drop(['Payment_Behaviour'], axis=1)\n",
        "\n",
        "# Credit_Score\n",
        "Credit_Score = {\n",
        "    'Good': 0,\n",
        "    'Standard': 1,\n",
        "    'Poor': 2\n",
        "}\n",
        "\n",
        "df_score = df_clear['Credit_Score'].map(Credit_Score)\n",
        "df_bin = df_bin.drop(['Credit_Score'], axis=1)\n",
        "df_bin = pd.concat((df_bin, df_score), axis=1)\n",
        "\n",
        "df_bin"
      ],
      "metadata": {
        "colab": {
          "base_uri": "https://localhost:8080/",
          "height": 487
        },
        "id": "3Ig9NofAJbjY",
        "outputId": "dbef2900-6e94-4ab8-f86c-1f8bae12234e"
      },
      "execution_count": null,
      "outputs": [
        {
          "output_type": "execute_result",
          "data": {
            "text/plain": [
              "       Age  Annual_Income  Monthly_Inhand_Salary  Num_Bank_Accounts  \\\n",
              "0       23       19114.12            1824.843333                  3   \n",
              "1       23       19114.12            3074.806667                  3   \n",
              "3       23       19114.12            3074.806667                  3   \n",
              "4       23       19114.12            1824.843333                  3   \n",
              "5       23       19114.12            3074.806667                  3   \n",
              "...    ...            ...                    ...                ...   \n",
              "99994   25       39628.99            3359.415833                  4   \n",
              "99995   25       39628.99            3359.415833                  4   \n",
              "99996   25       39628.99            3359.415833                  4   \n",
              "99998   25       39628.99            3359.415833                  4   \n",
              "99999   25       39628.99            3359.415833                  4   \n",
              "\n",
              "       Num_Credit_Card  Interest_Rate  Num_of_Loan  Delay_from_due_date  \\\n",
              "0                    4              3            4                    3   \n",
              "1                    4              3            4                   -1   \n",
              "3                    4              3            4                    5   \n",
              "4                    4              3            4                    6   \n",
              "5                    4              3            4                    8   \n",
              "...                ...            ...          ...                  ...   \n",
              "99994                6              7            2                   20   \n",
              "99995                6              7            2                   23   \n",
              "99996                6              7            2                   18   \n",
              "99998                6              7            2                   20   \n",
              "99999                6              7            2                   18   \n",
              "\n",
              "       Num_of_Delayed_Payment  Changed_Credit_Limit  ...  NM  No  Yes  \\\n",
              "0                         7.0                 11.27  ...   0   1    0   \n",
              "1                        14.0                 11.27  ...   0   1    0   \n",
              "3                         4.0                  6.27  ...   0   1    0   \n",
              "4                        14.0                 11.27  ...   0   1    0   \n",
              "5                         4.0                  9.27  ...   0   1    0   \n",
              "...                       ...                   ...  ...  ..  ..  ...   \n",
              "99994                     6.0                  9.50  ...   0   1    0   \n",
              "99995                     7.0                 11.50  ...   0   1    0   \n",
              "99996                     7.0                 11.50  ...   0   1    0   \n",
              "99998                    14.0                 11.50  ...   0   1    0   \n",
              "99999                     6.0                 11.50  ...   0   1    0   \n",
              "\n",
              "       High_spent_Large_value_payments  High_spent_Medium_value_payments  \\\n",
              "0                                    0                                 0   \n",
              "1                                    0                                 0   \n",
              "3                                    0                                 0   \n",
              "4                                    0                                 1   \n",
              "5                                    0                                 0   \n",
              "...                                ...                               ...   \n",
              "99994                                0                                 1   \n",
              "99995                                1                                 0   \n",
              "99996                                0                                 1   \n",
              "99998                                0                                 0   \n",
              "99999                                0                                 0   \n",
              "\n",
              "       High_spent_Small_value_payments  Low_spent_Large_value_payments  \\\n",
              "0                                    1                               0   \n",
              "1                                    0                               1   \n",
              "3                                    0                               0   \n",
              "4                                    0                               0   \n",
              "5                                    0                               0   \n",
              "...                                ...                             ...   \n",
              "99994                                0                               0   \n",
              "99995                                0                               0   \n",
              "99996                                0                               0   \n",
              "99998                                0                               1   \n",
              "99999                                0                               0   \n",
              "\n",
              "       Low_spent_Medium_value_payments  Low_spent_Small_value_payments  \\\n",
              "0                                    0                               0   \n",
              "1                                    0                               0   \n",
              "3                                    0                               1   \n",
              "4                                    0                               0   \n",
              "5                                    0                               1   \n",
              "...                                ...                             ...   \n",
              "99994                                0                               0   \n",
              "99995                                0                               0   \n",
              "99996                                0                               0   \n",
              "99998                                0                               0   \n",
              "99999                                0                               1   \n",
              "\n",
              "       Credit_Score  \n",
              "0                 0  \n",
              "1                 0  \n",
              "3                 0  \n",
              "4                 0  \n",
              "5                 0  \n",
              "...             ...  \n",
              "99994             2  \n",
              "99995             2  \n",
              "99996             2  \n",
              "99998             1  \n",
              "99999             2  \n",
              "\n",
              "[87887 rows x 48 columns]"
            ],
            "text/html": [
              "\n",
              "  <div id=\"df-947a5d2c-a863-4ad8-9a90-11e0e9737ad2\">\n",
              "    <div class=\"colab-df-container\">\n",
              "      <div>\n",
              "<style scoped>\n",
              "    .dataframe tbody tr th:only-of-type {\n",
              "        vertical-align: middle;\n",
              "    }\n",
              "\n",
              "    .dataframe tbody tr th {\n",
              "        vertical-align: top;\n",
              "    }\n",
              "\n",
              "    .dataframe thead th {\n",
              "        text-align: right;\n",
              "    }\n",
              "</style>\n",
              "<table border=\"1\" class=\"dataframe\">\n",
              "  <thead>\n",
              "    <tr style=\"text-align: right;\">\n",
              "      <th></th>\n",
              "      <th>Age</th>\n",
              "      <th>Annual_Income</th>\n",
              "      <th>Monthly_Inhand_Salary</th>\n",
              "      <th>Num_Bank_Accounts</th>\n",
              "      <th>Num_Credit_Card</th>\n",
              "      <th>Interest_Rate</th>\n",
              "      <th>Num_of_Loan</th>\n",
              "      <th>Delay_from_due_date</th>\n",
              "      <th>Num_of_Delayed_Payment</th>\n",
              "      <th>Changed_Credit_Limit</th>\n",
              "      <th>...</th>\n",
              "      <th>NM</th>\n",
              "      <th>No</th>\n",
              "      <th>Yes</th>\n",
              "      <th>High_spent_Large_value_payments</th>\n",
              "      <th>High_spent_Medium_value_payments</th>\n",
              "      <th>High_spent_Small_value_payments</th>\n",
              "      <th>Low_spent_Large_value_payments</th>\n",
              "      <th>Low_spent_Medium_value_payments</th>\n",
              "      <th>Low_spent_Small_value_payments</th>\n",
              "      <th>Credit_Score</th>\n",
              "    </tr>\n",
              "  </thead>\n",
              "  <tbody>\n",
              "    <tr>\n",
              "      <th>0</th>\n",
              "      <td>23</td>\n",
              "      <td>19114.12</td>\n",
              "      <td>1824.843333</td>\n",
              "      <td>3</td>\n",
              "      <td>4</td>\n",
              "      <td>3</td>\n",
              "      <td>4</td>\n",
              "      <td>3</td>\n",
              "      <td>7.0</td>\n",
              "      <td>11.27</td>\n",
              "      <td>...</td>\n",
              "      <td>0</td>\n",
              "      <td>1</td>\n",
              "      <td>0</td>\n",
              "      <td>0</td>\n",
              "      <td>0</td>\n",
              "      <td>1</td>\n",
              "      <td>0</td>\n",
              "      <td>0</td>\n",
              "      <td>0</td>\n",
              "      <td>0</td>\n",
              "    </tr>\n",
              "    <tr>\n",
              "      <th>1</th>\n",
              "      <td>23</td>\n",
              "      <td>19114.12</td>\n",
              "      <td>3074.806667</td>\n",
              "      <td>3</td>\n",
              "      <td>4</td>\n",
              "      <td>3</td>\n",
              "      <td>4</td>\n",
              "      <td>-1</td>\n",
              "      <td>14.0</td>\n",
              "      <td>11.27</td>\n",
              "      <td>...</td>\n",
              "      <td>0</td>\n",
              "      <td>1</td>\n",
              "      <td>0</td>\n",
              "      <td>0</td>\n",
              "      <td>0</td>\n",
              "      <td>0</td>\n",
              "      <td>1</td>\n",
              "      <td>0</td>\n",
              "      <td>0</td>\n",
              "      <td>0</td>\n",
              "    </tr>\n",
              "    <tr>\n",
              "      <th>3</th>\n",
              "      <td>23</td>\n",
              "      <td>19114.12</td>\n",
              "      <td>3074.806667</td>\n",
              "      <td>3</td>\n",
              "      <td>4</td>\n",
              "      <td>3</td>\n",
              "      <td>4</td>\n",
              "      <td>5</td>\n",
              "      <td>4.0</td>\n",
              "      <td>6.27</td>\n",
              "      <td>...</td>\n",
              "      <td>0</td>\n",
              "      <td>1</td>\n",
              "      <td>0</td>\n",
              "      <td>0</td>\n",
              "      <td>0</td>\n",
              "      <td>0</td>\n",
              "      <td>0</td>\n",
              "      <td>0</td>\n",
              "      <td>1</td>\n",
              "      <td>0</td>\n",
              "    </tr>\n",
              "    <tr>\n",
              "      <th>4</th>\n",
              "      <td>23</td>\n",
              "      <td>19114.12</td>\n",
              "      <td>1824.843333</td>\n",
              "      <td>3</td>\n",
              "      <td>4</td>\n",
              "      <td>3</td>\n",
              "      <td>4</td>\n",
              "      <td>6</td>\n",
              "      <td>14.0</td>\n",
              "      <td>11.27</td>\n",
              "      <td>...</td>\n",
              "      <td>0</td>\n",
              "      <td>1</td>\n",
              "      <td>0</td>\n",
              "      <td>0</td>\n",
              "      <td>1</td>\n",
              "      <td>0</td>\n",
              "      <td>0</td>\n",
              "      <td>0</td>\n",
              "      <td>0</td>\n",
              "      <td>0</td>\n",
              "    </tr>\n",
              "    <tr>\n",
              "      <th>5</th>\n",
              "      <td>23</td>\n",
              "      <td>19114.12</td>\n",
              "      <td>3074.806667</td>\n",
              "      <td>3</td>\n",
              "      <td>4</td>\n",
              "      <td>3</td>\n",
              "      <td>4</td>\n",
              "      <td>8</td>\n",
              "      <td>4.0</td>\n",
              "      <td>9.27</td>\n",
              "      <td>...</td>\n",
              "      <td>0</td>\n",
              "      <td>1</td>\n",
              "      <td>0</td>\n",
              "      <td>0</td>\n",
              "      <td>0</td>\n",
              "      <td>0</td>\n",
              "      <td>0</td>\n",
              "      <td>0</td>\n",
              "      <td>1</td>\n",
              "      <td>0</td>\n",
              "    </tr>\n",
              "    <tr>\n",
              "      <th>...</th>\n",
              "      <td>...</td>\n",
              "      <td>...</td>\n",
              "      <td>...</td>\n",
              "      <td>...</td>\n",
              "      <td>...</td>\n",
              "      <td>...</td>\n",
              "      <td>...</td>\n",
              "      <td>...</td>\n",
              "      <td>...</td>\n",
              "      <td>...</td>\n",
              "      <td>...</td>\n",
              "      <td>...</td>\n",
              "      <td>...</td>\n",
              "      <td>...</td>\n",
              "      <td>...</td>\n",
              "      <td>...</td>\n",
              "      <td>...</td>\n",
              "      <td>...</td>\n",
              "      <td>...</td>\n",
              "      <td>...</td>\n",
              "      <td>...</td>\n",
              "    </tr>\n",
              "    <tr>\n",
              "      <th>99994</th>\n",
              "      <td>25</td>\n",
              "      <td>39628.99</td>\n",
              "      <td>3359.415833</td>\n",
              "      <td>4</td>\n",
              "      <td>6</td>\n",
              "      <td>7</td>\n",
              "      <td>2</td>\n",
              "      <td>20</td>\n",
              "      <td>6.0</td>\n",
              "      <td>9.50</td>\n",
              "      <td>...</td>\n",
              "      <td>0</td>\n",
              "      <td>1</td>\n",
              "      <td>0</td>\n",
              "      <td>0</td>\n",
              "      <td>1</td>\n",
              "      <td>0</td>\n",
              "      <td>0</td>\n",
              "      <td>0</td>\n",
              "      <td>0</td>\n",
              "      <td>2</td>\n",
              "    </tr>\n",
              "    <tr>\n",
              "      <th>99995</th>\n",
              "      <td>25</td>\n",
              "      <td>39628.99</td>\n",
              "      <td>3359.415833</td>\n",
              "      <td>4</td>\n",
              "      <td>6</td>\n",
              "      <td>7</td>\n",
              "      <td>2</td>\n",
              "      <td>23</td>\n",
              "      <td>7.0</td>\n",
              "      <td>11.50</td>\n",
              "      <td>...</td>\n",
              "      <td>0</td>\n",
              "      <td>1</td>\n",
              "      <td>0</td>\n",
              "      <td>1</td>\n",
              "      <td>0</td>\n",
              "      <td>0</td>\n",
              "      <td>0</td>\n",
              "      <td>0</td>\n",
              "      <td>0</td>\n",
              "      <td>2</td>\n",
              "    </tr>\n",
              "    <tr>\n",
              "      <th>99996</th>\n",
              "      <td>25</td>\n",
              "      <td>39628.99</td>\n",
              "      <td>3359.415833</td>\n",
              "      <td>4</td>\n",
              "      <td>6</td>\n",
              "      <td>7</td>\n",
              "      <td>2</td>\n",
              "      <td>18</td>\n",
              "      <td>7.0</td>\n",
              "      <td>11.50</td>\n",
              "      <td>...</td>\n",
              "      <td>0</td>\n",
              "      <td>1</td>\n",
              "      <td>0</td>\n",
              "      <td>0</td>\n",
              "      <td>1</td>\n",
              "      <td>0</td>\n",
              "      <td>0</td>\n",
              "      <td>0</td>\n",
              "      <td>0</td>\n",
              "      <td>2</td>\n",
              "    </tr>\n",
              "    <tr>\n",
              "      <th>99998</th>\n",
              "      <td>25</td>\n",
              "      <td>39628.99</td>\n",
              "      <td>3359.415833</td>\n",
              "      <td>4</td>\n",
              "      <td>6</td>\n",
              "      <td>7</td>\n",
              "      <td>2</td>\n",
              "      <td>20</td>\n",
              "      <td>14.0</td>\n",
              "      <td>11.50</td>\n",
              "      <td>...</td>\n",
              "      <td>0</td>\n",
              "      <td>1</td>\n",
              "      <td>0</td>\n",
              "      <td>0</td>\n",
              "      <td>0</td>\n",
              "      <td>0</td>\n",
              "      <td>1</td>\n",
              "      <td>0</td>\n",
              "      <td>0</td>\n",
              "      <td>1</td>\n",
              "    </tr>\n",
              "    <tr>\n",
              "      <th>99999</th>\n",
              "      <td>25</td>\n",
              "      <td>39628.99</td>\n",
              "      <td>3359.415833</td>\n",
              "      <td>4</td>\n",
              "      <td>6</td>\n",
              "      <td>7</td>\n",
              "      <td>2</td>\n",
              "      <td>18</td>\n",
              "      <td>6.0</td>\n",
              "      <td>11.50</td>\n",
              "      <td>...</td>\n",
              "      <td>0</td>\n",
              "      <td>1</td>\n",
              "      <td>0</td>\n",
              "      <td>0</td>\n",
              "      <td>0</td>\n",
              "      <td>0</td>\n",
              "      <td>0</td>\n",
              "      <td>0</td>\n",
              "      <td>1</td>\n",
              "      <td>2</td>\n",
              "    </tr>\n",
              "  </tbody>\n",
              "</table>\n",
              "<p>87887 rows × 48 columns</p>\n",
              "</div>\n",
              "      <button class=\"colab-df-convert\" onclick=\"convertToInteractive('df-947a5d2c-a863-4ad8-9a90-11e0e9737ad2')\"\n",
              "              title=\"Convert this dataframe to an interactive table.\"\n",
              "              style=\"display:none;\">\n",
              "        \n",
              "  <svg xmlns=\"http://www.w3.org/2000/svg\" height=\"24px\"viewBox=\"0 0 24 24\"\n",
              "       width=\"24px\">\n",
              "    <path d=\"M0 0h24v24H0V0z\" fill=\"none\"/>\n",
              "    <path d=\"M18.56 5.44l.94 2.06.94-2.06 2.06-.94-2.06-.94-.94-2.06-.94 2.06-2.06.94zm-11 1L8.5 8.5l.94-2.06 2.06-.94-2.06-.94L8.5 2.5l-.94 2.06-2.06.94zm10 10l.94 2.06.94-2.06 2.06-.94-2.06-.94-.94-2.06-.94 2.06-2.06.94z\"/><path d=\"M17.41 7.96l-1.37-1.37c-.4-.4-.92-.59-1.43-.59-.52 0-1.04.2-1.43.59L10.3 9.45l-7.72 7.72c-.78.78-.78 2.05 0 2.83L4 21.41c.39.39.9.59 1.41.59.51 0 1.02-.2 1.41-.59l7.78-7.78 2.81-2.81c.8-.78.8-2.07 0-2.86zM5.41 20L4 18.59l7.72-7.72 1.47 1.35L5.41 20z\"/>\n",
              "  </svg>\n",
              "      </button>\n",
              "      \n",
              "  <style>\n",
              "    .colab-df-container {\n",
              "      display:flex;\n",
              "      flex-wrap:wrap;\n",
              "      gap: 12px;\n",
              "    }\n",
              "\n",
              "    .colab-df-convert {\n",
              "      background-color: #E8F0FE;\n",
              "      border: none;\n",
              "      border-radius: 50%;\n",
              "      cursor: pointer;\n",
              "      display: none;\n",
              "      fill: #1967D2;\n",
              "      height: 32px;\n",
              "      padding: 0 0 0 0;\n",
              "      width: 32px;\n",
              "    }\n",
              "\n",
              "    .colab-df-convert:hover {\n",
              "      background-color: #E2EBFA;\n",
              "      box-shadow: 0px 1px 2px rgba(60, 64, 67, 0.3), 0px 1px 3px 1px rgba(60, 64, 67, 0.15);\n",
              "      fill: #174EA6;\n",
              "    }\n",
              "\n",
              "    [theme=dark] .colab-df-convert {\n",
              "      background-color: #3B4455;\n",
              "      fill: #D2E3FC;\n",
              "    }\n",
              "\n",
              "    [theme=dark] .colab-df-convert:hover {\n",
              "      background-color: #434B5C;\n",
              "      box-shadow: 0px 1px 3px 1px rgba(0, 0, 0, 0.15);\n",
              "      filter: drop-shadow(0px 1px 2px rgba(0, 0, 0, 0.3));\n",
              "      fill: #FFFFFF;\n",
              "    }\n",
              "  </style>\n",
              "\n",
              "      <script>\n",
              "        const buttonEl =\n",
              "          document.querySelector('#df-947a5d2c-a863-4ad8-9a90-11e0e9737ad2 button.colab-df-convert');\n",
              "        buttonEl.style.display =\n",
              "          google.colab.kernel.accessAllowed ? 'block' : 'none';\n",
              "\n",
              "        async function convertToInteractive(key) {\n",
              "          const element = document.querySelector('#df-947a5d2c-a863-4ad8-9a90-11e0e9737ad2');\n",
              "          const dataTable =\n",
              "            await google.colab.kernel.invokeFunction('convertToInteractive',\n",
              "                                                     [key], {});\n",
              "          if (!dataTable) return;\n",
              "\n",
              "          const docLinkHtml = 'Like what you see? Visit the ' +\n",
              "            '<a target=\"_blank\" href=https://colab.research.google.com/notebooks/data_table.ipynb>data table notebook</a>'\n",
              "            + ' to learn more about interactive tables.';\n",
              "          element.innerHTML = '';\n",
              "          dataTable['output_type'] = 'display_data';\n",
              "          await google.colab.output.renderOutput(dataTable, element);\n",
              "          const docLink = document.createElement('div');\n",
              "          docLink.innerHTML = docLinkHtml;\n",
              "          element.appendChild(docLink);\n",
              "        }\n",
              "      </script>\n",
              "    </div>\n",
              "  </div>\n",
              "  "
            ]
          },
          "metadata": {},
          "execution_count": 28
        }
      ]
    },
    {
      "cell_type": "markdown",
      "source": [
        "# Подготовка данных"
      ],
      "metadata": {
        "id": "lb1lUS5okrgN"
      }
    },
    {
      "cell_type": "code",
      "source": [
        "categorical_columns = [c for c in df_bin.columns if df_bin[c].dtype.name == 'object']\n",
        "numerical_columns   = [c for c in df_bin.columns if df_bin[c].dtype.name != 'object']\n",
        "binary_columns    = [c for c in categorical_columns if data_describe[c]['unique'] == 2]\n",
        "nonbinary_columns = [c for c in categorical_columns if data_describe[c]['unique'] > 2]\n",
        "\n",
        "data_numerical = df_bin[numerical_columns]\n",
        "data_nonbinary = df_bin[nonbinary_columns]\n",
        "\n",
        "data_numerical = (data_numerical - data_numerical.mean(axis = 0))/data_numerical.std(axis = 0)\n",
        "data_numerical.describe()"
      ],
      "metadata": {
        "colab": {
          "base_uri": "https://localhost:8080/",
          "height": 463
        },
        "id": "pIhjyeLkI0Fx",
        "outputId": "0565b069-ef6a-48ad-9807-701da58e4086"
      },
      "execution_count": null,
      "outputs": [
        {
          "output_type": "execute_result",
          "data": {
            "text/plain": [
              "                Age  Annual_Income  Monthly_Inhand_Salary  Num_Bank_Accounts  \\\n",
              "count  8.788700e+04   8.788700e+04           8.788700e+04       8.788700e+04   \n",
              "mean  -1.662221e-16   6.467785e-18           1.798044e-16       1.649285e-17   \n",
              "std    1.000000e+00   1.000000e+00           1.000000e+00       1.000000e+00   \n",
              "min   -1.789913e+00  -1.395359e-01          -1.266773e+00      -1.719330e-01   \n",
              "25%   -8.620859e-01  -1.173198e-01          -7.583617e-01      -1.028455e-01   \n",
              "50%   -2.704186e-02  -8.537511e-02          -3.149944e-01      -6.830177e-02   \n",
              "75%    8.080021e-01  -2.228003e-02           4.627105e-01      -5.102991e-02   \n",
              "max    6.096614e+00   2.338097e+01           3.875152e+00       1.875804e+01   \n",
              "\n",
              "       Num_Credit_Card  Interest_Rate   Num_of_Loan  Delay_from_due_date  \\\n",
              "count     8.788700e+04   8.788700e+04  8.788700e+04         8.788700e+04   \n",
              "mean      8.650662e-18  -8.893204e-19  4.333416e-17         2.975181e-17   \n",
              "std       1.000000e+00   1.000000e+00  1.000000e+00         1.000000e+00   \n",
              "min      -1.667930e-01  -1.527028e-01 -1.450019e+00        -1.762692e+00   \n",
              "25%      -1.331915e-01  -1.296455e-01 -6.311863e-01        -7.520489e-01   \n",
              "50%      -1.219910e-01  -1.131760e-01 -2.217698e-01        -2.130392e-01   \n",
              "75%      -9.959007e-02  -9.011871e-02  5.970632e-01         4.607229e-01   \n",
              "max       1.300497e+01   1.404401e+01  2.234729e+00         3.088395e+00   \n",
              "\n",
              "       Num_of_Delayed_Payment  Changed_Credit_Limit  ...            NM  \\\n",
              "count            8.788700e+04          8.788700e+04  ...  8.788700e+04   \n",
              "mean             2.142454e-18         -4.947855e-17  ...  3.557282e-17   \n",
              "std              1.000000e+00          1.000000e+00  ...  1.000000e+00   \n",
              "min             -2.974459e-01         -2.508800e+00  ... -3.687263e-01   \n",
              "25%             -1.290675e-01         -7.349059e-01  ... -3.687263e-01   \n",
              "50%             -3.552392e-02         -1.436079e-01  ... -3.687263e-01   \n",
              "75%              3.931092e-02          6.437989e-01  ... -3.687263e-01   \n",
              "max              3.210604e+01          3.875138e+00  ...  2.712008e+00   \n",
              "\n",
              "                 No           Yes  High_spent_Large_value_payments  \\\n",
              "count  8.788700e+04  8.788700e+04                     8.788700e+04   \n",
              "mean   3.557282e-17 -1.616946e-19                    -6.694157e-17   \n",
              "std    1.000000e+00  1.000000e+00                     1.000000e+00   \n",
              "min   -7.374239e-01 -1.057790e+00                    -3.945968e-01   \n",
              "25%   -7.374239e-01 -1.057790e+00                    -3.945968e-01   \n",
              "50%   -7.374239e-01  9.453561e-01                    -3.945968e-01   \n",
              "75%    1.356057e+00  9.453561e-01                    -3.945968e-01   \n",
              "max    1.356057e+00  9.453561e-01                     2.534204e+00   \n",
              "\n",
              "       High_spent_Medium_value_payments  High_spent_Small_value_payments  \\\n",
              "count                      8.788700e+04                     8.788700e+04   \n",
              "mean                       4.155552e-17                    -3.557282e-17   \n",
              "std                        1.000000e+00                     1.000000e+00   \n",
              "min                       -4.636417e-01                    -3.595874e-01   \n",
              "25%                       -4.636417e-01                    -3.595874e-01   \n",
              "50%                       -4.636417e-01                    -3.595874e-01   \n",
              "75%                       -4.636417e-01                    -3.595874e-01   \n",
              "max                        2.156813e+00                     2.780933e+00   \n",
              "\n",
              "       Low_spent_Large_value_payments  Low_spent_Medium_value_payments  \\\n",
              "count                    8.788700e+04                     8.788700e+04   \n",
              "mean                     1.681624e-17                     1.907996e-17   \n",
              "std                      1.000000e+00                     1.000000e+00   \n",
              "min                     -3.419114e-01                    -4.014062e-01   \n",
              "25%                     -3.419114e-01                    -4.014062e-01   \n",
              "50%                     -3.419114e-01                    -4.014062e-01   \n",
              "75%                     -3.419114e-01                    -4.014062e-01   \n",
              "max                      2.924701e+00                     2.491213e+00   \n",
              "\n",
              "       Low_spent_Small_value_payments  Credit_Score  \n",
              "count                    8.788700e+04  8.788700e+04  \n",
              "mean                    -2.199047e-17 -8.666831e-17  \n",
              "std                      1.000000e+00  1.000000e+00  \n",
              "min                     -7.024434e-01 -1.660006e+00  \n",
              "25%                     -7.024434e-01 -1.720009e-01  \n",
              "50%                     -7.024434e-01 -1.720009e-01  \n",
              "75%                      1.423586e+00  1.316004e+00  \n",
              "max                      1.423586e+00  1.316004e+00  \n",
              "\n",
              "[8 rows x 48 columns]"
            ],
            "text/html": [
              "\n",
              "  <div id=\"df-f4eda50f-da72-432c-89aa-a3b7cc96ec2f\">\n",
              "    <div class=\"colab-df-container\">\n",
              "      <div>\n",
              "<style scoped>\n",
              "    .dataframe tbody tr th:only-of-type {\n",
              "        vertical-align: middle;\n",
              "    }\n",
              "\n",
              "    .dataframe tbody tr th {\n",
              "        vertical-align: top;\n",
              "    }\n",
              "\n",
              "    .dataframe thead th {\n",
              "        text-align: right;\n",
              "    }\n",
              "</style>\n",
              "<table border=\"1\" class=\"dataframe\">\n",
              "  <thead>\n",
              "    <tr style=\"text-align: right;\">\n",
              "      <th></th>\n",
              "      <th>Age</th>\n",
              "      <th>Annual_Income</th>\n",
              "      <th>Monthly_Inhand_Salary</th>\n",
              "      <th>Num_Bank_Accounts</th>\n",
              "      <th>Num_Credit_Card</th>\n",
              "      <th>Interest_Rate</th>\n",
              "      <th>Num_of_Loan</th>\n",
              "      <th>Delay_from_due_date</th>\n",
              "      <th>Num_of_Delayed_Payment</th>\n",
              "      <th>Changed_Credit_Limit</th>\n",
              "      <th>...</th>\n",
              "      <th>NM</th>\n",
              "      <th>No</th>\n",
              "      <th>Yes</th>\n",
              "      <th>High_spent_Large_value_payments</th>\n",
              "      <th>High_spent_Medium_value_payments</th>\n",
              "      <th>High_spent_Small_value_payments</th>\n",
              "      <th>Low_spent_Large_value_payments</th>\n",
              "      <th>Low_spent_Medium_value_payments</th>\n",
              "      <th>Low_spent_Small_value_payments</th>\n",
              "      <th>Credit_Score</th>\n",
              "    </tr>\n",
              "  </thead>\n",
              "  <tbody>\n",
              "    <tr>\n",
              "      <th>count</th>\n",
              "      <td>8.788700e+04</td>\n",
              "      <td>8.788700e+04</td>\n",
              "      <td>8.788700e+04</td>\n",
              "      <td>8.788700e+04</td>\n",
              "      <td>8.788700e+04</td>\n",
              "      <td>8.788700e+04</td>\n",
              "      <td>8.788700e+04</td>\n",
              "      <td>8.788700e+04</td>\n",
              "      <td>8.788700e+04</td>\n",
              "      <td>8.788700e+04</td>\n",
              "      <td>...</td>\n",
              "      <td>8.788700e+04</td>\n",
              "      <td>8.788700e+04</td>\n",
              "      <td>8.788700e+04</td>\n",
              "      <td>8.788700e+04</td>\n",
              "      <td>8.788700e+04</td>\n",
              "      <td>8.788700e+04</td>\n",
              "      <td>8.788700e+04</td>\n",
              "      <td>8.788700e+04</td>\n",
              "      <td>8.788700e+04</td>\n",
              "      <td>8.788700e+04</td>\n",
              "    </tr>\n",
              "    <tr>\n",
              "      <th>mean</th>\n",
              "      <td>-1.662221e-16</td>\n",
              "      <td>6.467785e-18</td>\n",
              "      <td>1.798044e-16</td>\n",
              "      <td>1.649285e-17</td>\n",
              "      <td>8.650662e-18</td>\n",
              "      <td>-8.893204e-19</td>\n",
              "      <td>4.333416e-17</td>\n",
              "      <td>2.975181e-17</td>\n",
              "      <td>2.142454e-18</td>\n",
              "      <td>-4.947855e-17</td>\n",
              "      <td>...</td>\n",
              "      <td>3.557282e-17</td>\n",
              "      <td>3.557282e-17</td>\n",
              "      <td>-1.616946e-19</td>\n",
              "      <td>-6.694157e-17</td>\n",
              "      <td>4.155552e-17</td>\n",
              "      <td>-3.557282e-17</td>\n",
              "      <td>1.681624e-17</td>\n",
              "      <td>1.907996e-17</td>\n",
              "      <td>-2.199047e-17</td>\n",
              "      <td>-8.666831e-17</td>\n",
              "    </tr>\n",
              "    <tr>\n",
              "      <th>std</th>\n",
              "      <td>1.000000e+00</td>\n",
              "      <td>1.000000e+00</td>\n",
              "      <td>1.000000e+00</td>\n",
              "      <td>1.000000e+00</td>\n",
              "      <td>1.000000e+00</td>\n",
              "      <td>1.000000e+00</td>\n",
              "      <td>1.000000e+00</td>\n",
              "      <td>1.000000e+00</td>\n",
              "      <td>1.000000e+00</td>\n",
              "      <td>1.000000e+00</td>\n",
              "      <td>...</td>\n",
              "      <td>1.000000e+00</td>\n",
              "      <td>1.000000e+00</td>\n",
              "      <td>1.000000e+00</td>\n",
              "      <td>1.000000e+00</td>\n",
              "      <td>1.000000e+00</td>\n",
              "      <td>1.000000e+00</td>\n",
              "      <td>1.000000e+00</td>\n",
              "      <td>1.000000e+00</td>\n",
              "      <td>1.000000e+00</td>\n",
              "      <td>1.000000e+00</td>\n",
              "    </tr>\n",
              "    <tr>\n",
              "      <th>min</th>\n",
              "      <td>-1.789913e+00</td>\n",
              "      <td>-1.395359e-01</td>\n",
              "      <td>-1.266773e+00</td>\n",
              "      <td>-1.719330e-01</td>\n",
              "      <td>-1.667930e-01</td>\n",
              "      <td>-1.527028e-01</td>\n",
              "      <td>-1.450019e+00</td>\n",
              "      <td>-1.762692e+00</td>\n",
              "      <td>-2.974459e-01</td>\n",
              "      <td>-2.508800e+00</td>\n",
              "      <td>...</td>\n",
              "      <td>-3.687263e-01</td>\n",
              "      <td>-7.374239e-01</td>\n",
              "      <td>-1.057790e+00</td>\n",
              "      <td>-3.945968e-01</td>\n",
              "      <td>-4.636417e-01</td>\n",
              "      <td>-3.595874e-01</td>\n",
              "      <td>-3.419114e-01</td>\n",
              "      <td>-4.014062e-01</td>\n",
              "      <td>-7.024434e-01</td>\n",
              "      <td>-1.660006e+00</td>\n",
              "    </tr>\n",
              "    <tr>\n",
              "      <th>25%</th>\n",
              "      <td>-8.620859e-01</td>\n",
              "      <td>-1.173198e-01</td>\n",
              "      <td>-7.583617e-01</td>\n",
              "      <td>-1.028455e-01</td>\n",
              "      <td>-1.331915e-01</td>\n",
              "      <td>-1.296455e-01</td>\n",
              "      <td>-6.311863e-01</td>\n",
              "      <td>-7.520489e-01</td>\n",
              "      <td>-1.290675e-01</td>\n",
              "      <td>-7.349059e-01</td>\n",
              "      <td>...</td>\n",
              "      <td>-3.687263e-01</td>\n",
              "      <td>-7.374239e-01</td>\n",
              "      <td>-1.057790e+00</td>\n",
              "      <td>-3.945968e-01</td>\n",
              "      <td>-4.636417e-01</td>\n",
              "      <td>-3.595874e-01</td>\n",
              "      <td>-3.419114e-01</td>\n",
              "      <td>-4.014062e-01</td>\n",
              "      <td>-7.024434e-01</td>\n",
              "      <td>-1.720009e-01</td>\n",
              "    </tr>\n",
              "    <tr>\n",
              "      <th>50%</th>\n",
              "      <td>-2.704186e-02</td>\n",
              "      <td>-8.537511e-02</td>\n",
              "      <td>-3.149944e-01</td>\n",
              "      <td>-6.830177e-02</td>\n",
              "      <td>-1.219910e-01</td>\n",
              "      <td>-1.131760e-01</td>\n",
              "      <td>-2.217698e-01</td>\n",
              "      <td>-2.130392e-01</td>\n",
              "      <td>-3.552392e-02</td>\n",
              "      <td>-1.436079e-01</td>\n",
              "      <td>...</td>\n",
              "      <td>-3.687263e-01</td>\n",
              "      <td>-7.374239e-01</td>\n",
              "      <td>9.453561e-01</td>\n",
              "      <td>-3.945968e-01</td>\n",
              "      <td>-4.636417e-01</td>\n",
              "      <td>-3.595874e-01</td>\n",
              "      <td>-3.419114e-01</td>\n",
              "      <td>-4.014062e-01</td>\n",
              "      <td>-7.024434e-01</td>\n",
              "      <td>-1.720009e-01</td>\n",
              "    </tr>\n",
              "    <tr>\n",
              "      <th>75%</th>\n",
              "      <td>8.080021e-01</td>\n",
              "      <td>-2.228003e-02</td>\n",
              "      <td>4.627105e-01</td>\n",
              "      <td>-5.102991e-02</td>\n",
              "      <td>-9.959007e-02</td>\n",
              "      <td>-9.011871e-02</td>\n",
              "      <td>5.970632e-01</td>\n",
              "      <td>4.607229e-01</td>\n",
              "      <td>3.931092e-02</td>\n",
              "      <td>6.437989e-01</td>\n",
              "      <td>...</td>\n",
              "      <td>-3.687263e-01</td>\n",
              "      <td>1.356057e+00</td>\n",
              "      <td>9.453561e-01</td>\n",
              "      <td>-3.945968e-01</td>\n",
              "      <td>-4.636417e-01</td>\n",
              "      <td>-3.595874e-01</td>\n",
              "      <td>-3.419114e-01</td>\n",
              "      <td>-4.014062e-01</td>\n",
              "      <td>1.423586e+00</td>\n",
              "      <td>1.316004e+00</td>\n",
              "    </tr>\n",
              "    <tr>\n",
              "      <th>max</th>\n",
              "      <td>6.096614e+00</td>\n",
              "      <td>2.338097e+01</td>\n",
              "      <td>3.875152e+00</td>\n",
              "      <td>1.875804e+01</td>\n",
              "      <td>1.300497e+01</td>\n",
              "      <td>1.404401e+01</td>\n",
              "      <td>2.234729e+00</td>\n",
              "      <td>3.088395e+00</td>\n",
              "      <td>3.210604e+01</td>\n",
              "      <td>3.875138e+00</td>\n",
              "      <td>...</td>\n",
              "      <td>2.712008e+00</td>\n",
              "      <td>1.356057e+00</td>\n",
              "      <td>9.453561e-01</td>\n",
              "      <td>2.534204e+00</td>\n",
              "      <td>2.156813e+00</td>\n",
              "      <td>2.780933e+00</td>\n",
              "      <td>2.924701e+00</td>\n",
              "      <td>2.491213e+00</td>\n",
              "      <td>1.423586e+00</td>\n",
              "      <td>1.316004e+00</td>\n",
              "    </tr>\n",
              "  </tbody>\n",
              "</table>\n",
              "<p>8 rows × 48 columns</p>\n",
              "</div>\n",
              "      <button class=\"colab-df-convert\" onclick=\"convertToInteractive('df-f4eda50f-da72-432c-89aa-a3b7cc96ec2f')\"\n",
              "              title=\"Convert this dataframe to an interactive table.\"\n",
              "              style=\"display:none;\">\n",
              "        \n",
              "  <svg xmlns=\"http://www.w3.org/2000/svg\" height=\"24px\"viewBox=\"0 0 24 24\"\n",
              "       width=\"24px\">\n",
              "    <path d=\"M0 0h24v24H0V0z\" fill=\"none\"/>\n",
              "    <path d=\"M18.56 5.44l.94 2.06.94-2.06 2.06-.94-2.06-.94-.94-2.06-.94 2.06-2.06.94zm-11 1L8.5 8.5l.94-2.06 2.06-.94-2.06-.94L8.5 2.5l-.94 2.06-2.06.94zm10 10l.94 2.06.94-2.06 2.06-.94-2.06-.94-.94-2.06-.94 2.06-2.06.94z\"/><path d=\"M17.41 7.96l-1.37-1.37c-.4-.4-.92-.59-1.43-.59-.52 0-1.04.2-1.43.59L10.3 9.45l-7.72 7.72c-.78.78-.78 2.05 0 2.83L4 21.41c.39.39.9.59 1.41.59.51 0 1.02-.2 1.41-.59l7.78-7.78 2.81-2.81c.8-.78.8-2.07 0-2.86zM5.41 20L4 18.59l7.72-7.72 1.47 1.35L5.41 20z\"/>\n",
              "  </svg>\n",
              "      </button>\n",
              "      \n",
              "  <style>\n",
              "    .colab-df-container {\n",
              "      display:flex;\n",
              "      flex-wrap:wrap;\n",
              "      gap: 12px;\n",
              "    }\n",
              "\n",
              "    .colab-df-convert {\n",
              "      background-color: #E8F0FE;\n",
              "      border: none;\n",
              "      border-radius: 50%;\n",
              "      cursor: pointer;\n",
              "      display: none;\n",
              "      fill: #1967D2;\n",
              "      height: 32px;\n",
              "      padding: 0 0 0 0;\n",
              "      width: 32px;\n",
              "    }\n",
              "\n",
              "    .colab-df-convert:hover {\n",
              "      background-color: #E2EBFA;\n",
              "      box-shadow: 0px 1px 2px rgba(60, 64, 67, 0.3), 0px 1px 3px 1px rgba(60, 64, 67, 0.15);\n",
              "      fill: #174EA6;\n",
              "    }\n",
              "\n",
              "    [theme=dark] .colab-df-convert {\n",
              "      background-color: #3B4455;\n",
              "      fill: #D2E3FC;\n",
              "    }\n",
              "\n",
              "    [theme=dark] .colab-df-convert:hover {\n",
              "      background-color: #434B5C;\n",
              "      box-shadow: 0px 1px 3px 1px rgba(0, 0, 0, 0.15);\n",
              "      filter: drop-shadow(0px 1px 2px rgba(0, 0, 0, 0.3));\n",
              "      fill: #FFFFFF;\n",
              "    }\n",
              "  </style>\n",
              "\n",
              "      <script>\n",
              "        const buttonEl =\n",
              "          document.querySelector('#df-f4eda50f-da72-432c-89aa-a3b7cc96ec2f button.colab-df-convert');\n",
              "        buttonEl.style.display =\n",
              "          google.colab.kernel.accessAllowed ? 'block' : 'none';\n",
              "\n",
              "        async function convertToInteractive(key) {\n",
              "          const element = document.querySelector('#df-f4eda50f-da72-432c-89aa-a3b7cc96ec2f');\n",
              "          const dataTable =\n",
              "            await google.colab.kernel.invokeFunction('convertToInteractive',\n",
              "                                                     [key], {});\n",
              "          if (!dataTable) return;\n",
              "\n",
              "          const docLinkHtml = 'Like what you see? Visit the ' +\n",
              "            '<a target=\"_blank\" href=https://colab.research.google.com/notebooks/data_table.ipynb>data table notebook</a>'\n",
              "            + ' to learn more about interactive tables.';\n",
              "          element.innerHTML = '';\n",
              "          dataTable['output_type'] = 'display_data';\n",
              "          await google.colab.output.renderOutput(dataTable, element);\n",
              "          const docLink = document.createElement('div');\n",
              "          docLink.innerHTML = docLinkHtml;\n",
              "          element.appendChild(docLink);\n",
              "        }\n",
              "      </script>\n",
              "    </div>\n",
              "  </div>\n",
              "  "
            ]
          },
          "metadata": {},
          "execution_count": 29
        }
      ]
    },
    {
      "cell_type": "code",
      "source": [
        "data = pd.concat((data_numerical, data_nonbinary, df_bin[binary_columns]), axis = 1)\n",
        "print(data.shape)"
      ],
      "metadata": {
        "colab": {
          "base_uri": "https://localhost:8080/"
        },
        "id": "5rLhkcnZouDG",
        "outputId": "36b0fec2-21bc-4fe0-ee03-19aa91a39c88"
      },
      "execution_count": null,
      "outputs": [
        {
          "output_type": "stream",
          "name": "stdout",
          "text": [
            "(87887, 48)\n"
          ]
        }
      ]
    },
    {
      "cell_type": "code",
      "source": [
        "X = data.drop('Credit_Score', axis=1)\n",
        "Y = df_bin['Credit_Score']\n"
      ],
      "metadata": {
        "id": "hthUI4u4oNes"
      },
      "execution_count": null,
      "outputs": []
    },
    {
      "cell_type": "code",
      "source": [
        "from sklearn.model_selection import train_test_split\n",
        "N_train = int(len(X) * 0.8)\n",
        "N_test = len(X) - N_train\n",
        "X_train, X_test, Y_train, Y_test = train_test_split(X, Y, \n",
        "                                                    train_size = N_train, test_size = N_test, \n",
        "                                                    stratify = Y, random_state = 15)"
      ],
      "metadata": {
        "id": "UWvaASlXpgr5"
      },
      "execution_count": null,
      "outputs": []
    },
    {
      "cell_type": "code",
      "source": [
        "from sklearn.preprocessing import StandardScaler\n",
        "sc = StandardScaler()\n",
        "X_train = sc.fit_transform(X_train)\n",
        "X_test = sc.transform(X_test)"
      ],
      "metadata": {
        "id": "JmAWBD7PpkWW"
      },
      "execution_count": null,
      "outputs": []
    },
    {
      "cell_type": "markdown",
      "source": [
        "# K-ближайших"
      ],
      "metadata": {
        "id": "HJg4-8SGpnp7"
      }
    },
    {
      "cell_type": "code",
      "source": [
        "from sklearn.neighbors import KNeighborsClassifier\n",
        "\n",
        "knn = KNeighborsClassifier(n_neighbors = 3)\n",
        "#knn.set_params(n_neighbors=10)\n",
        "knn.fit(X_train, Y_train)"
      ],
      "metadata": {
        "colab": {
          "base_uri": "https://localhost:8080/"
        },
        "id": "C1dmX3dZpp8D",
        "outputId": "10ef2320-a949-4f57-d0f3-05d2a677b0f7"
      },
      "execution_count": null,
      "outputs": [
        {
          "output_type": "execute_result",
          "data": {
            "text/plain": [
              "KNeighborsClassifier(n_neighbors=3)"
            ]
          },
          "metadata": {},
          "execution_count": 34
        }
      ]
    },
    {
      "cell_type": "code",
      "source": [
        "y_test_predict = knn.predict(X_test)"
      ],
      "metadata": {
        "id": "sVKn468Tptrt"
      },
      "execution_count": null,
      "outputs": []
    },
    {
      "cell_type": "code",
      "source": [
        "err_test = 1 - knn.score(X_test, Y_test)\n",
        "err_train = 1 - knn.score(X_train, Y_train)\n",
        "print('Ошибка на обучении: ' + str(err_train * 100) + '%')\n",
        "print('Ошибка на тесте: ' + str(err_test * 100) + '%')"
      ],
      "metadata": {
        "colab": {
          "base_uri": "https://localhost:8080/"
        },
        "id": "JaFpLLjqpuAH",
        "outputId": "f60d9d81-1cca-4b30-c686-cca140e1499e"
      },
      "execution_count": null,
      "outputs": [
        {
          "output_type": "stream",
          "name": "stdout",
          "text": [
            "Ошибка на обучении: 22.779445021263278%\n",
            "Ошибка на тесте: 41.307315963135736%\n"
          ]
        }
      ]
    },
    {
      "cell_type": "markdown",
      "source": [
        "Метод k-ближайших не очень подходит для данного датасета"
      ],
      "metadata": {
        "id": "AgMkywXVtsW3"
      }
    },
    {
      "cell_type": "markdown",
      "source": [
        "# PCA"
      ],
      "metadata": {
        "id": "r3xY1QoTVcLM"
      }
    },
    {
      "cell_type": "code",
      "source": [
        "from sklearn import datasets \n",
        "from sklearn.preprocessing import StandardScaler \n",
        "from sklearn.decomposition import PCA \n",
        "from sklearn.model_selection import train_test_split\n",
        "from sklearn.cluster import KMeans\n",
        "from sklearn.metrics import rand_score\n",
        "\n",
        "import pandas as pd\n",
        "import seaborn as sns  "
      ],
      "metadata": {
        "id": "kUgwYq5mVbEJ"
      },
      "execution_count": null,
      "outputs": []
    },
    {
      "cell_type": "code",
      "source": [
        "sc = StandardScaler()\n",
        "X_train_std = sc.fit_transform(X_train)\n",
        "X_test_std = sc.transform(X_test)"
      ],
      "metadata": {
        "id": "C0IZrGbH9m2w"
      },
      "execution_count": null,
      "outputs": []
    },
    {
      "cell_type": "code",
      "source": [
        "scaled_data_train = pd.DataFrame(X_train_std)\n",
        "scaled_data_test = pd.DataFrame(X_test_std)"
      ],
      "metadata": {
        "id": "JPhw-MjR_OXr"
      },
      "execution_count": null,
      "outputs": []
    },
    {
      "cell_type": "code",
      "source": [
        "sns.heatmap(scaled_data_train.corr())"
      ],
      "metadata": {
        "colab": {
          "base_uri": "https://localhost:8080/",
          "height": 290
        },
        "id": "nNra5pkR_QNt",
        "outputId": "758d4a73-587a-4b82-eeb7-1f5378ee93e5"
      },
      "execution_count": null,
      "outputs": [
        {
          "output_type": "execute_result",
          "data": {
            "text/plain": [
              "<matplotlib.axes._subplots.AxesSubplot at 0x7fdfe0c64cd0>"
            ]
          },
          "metadata": {},
          "execution_count": 40
        },
        {
          "output_type": "display_data",
          "data": {
            "text/plain": [
              "<Figure size 432x288 with 2 Axes>"
            ],
            "image/png": "[encoded data removed]"
          },
          "metadata": {
            "needs_background": "light"
          }
        }
      ]
    },
    {
      "cell_type": "code",
      "source": [
        "cov_mat = np.cov(X_train_std.T)\n",
        "eigen_vals, eigen_vecs = np.linalg.eig(cov_mat)"
      ],
      "metadata": {
        "id": "KjJeq7wn_TdQ"
      },
      "execution_count": null,
      "outputs": []
    },
    {
      "cell_type": "code",
      "source": [
        "X_train"
      ],
      "metadata": {
        "colab": {
          "base_uri": "https://localhost:8080/"
        },
        "id": "TfOYY0Uc_Vgi",
        "outputId": "bca475dd-cd32-4363-e71c-32019a90bd13"
      },
      "execution_count": null,
      "outputs": [
        {
          "output_type": "execute_result",
          "data": {
            "text/plain": [
              "array([[-0.30746257, -0.11018452, -0.31457226, ..., -0.34094898,\n",
              "         2.47734635, -0.70253316],\n",
              "       [ 1.08276474, -0.0157152 ,  0.72358416, ..., -0.34094898,\n",
              "        -0.40365773, -0.70253316],\n",
              "       [-1.7903717 , -0.09706036, -0.49791246, ..., -0.34094898,\n",
              "        -0.40365773, -0.70253316],\n",
              "       ...,\n",
              "       [-0.95623531, -0.08147944, -0.19735053, ..., -0.34094898,\n",
              "        -0.40365773, -0.70253316],\n",
              "       [-1.14159895, -0.12078976, -0.31457226, ..., -0.34094898,\n",
              "         2.47734635, -0.70253316],\n",
              "       [-0.40014439, -0.08979477, -0.44728625, ..., -0.34094898,\n",
              "        -0.40365773,  1.42342035]])"
            ]
          },
          "metadata": {},
          "execution_count": 42
        }
      ]
    },
    {
      "cell_type": "code",
      "source": [
        "tot = sum(eigen_vals)\n",
        "var_exp = [(i / tot) for i in sorted(eigen_vals, reverse=True)]\n",
        "plt.figure(figsize=[10, 10])\n",
        "plt.bar(range(1,48), var_exp, alpha=0.5,\n",
        "        align='center')\n",
        "plt.legend(loc='best')\n",
        "plt.show()"
      ],
      "metadata": {
        "colab": {
          "base_uri": "https://localhost:8080/",
          "height": 610
        },
        "id": "tjkNVOev_Y-6",
        "outputId": "db142935-118d-4ada-dcef-c0e45b6b7b59"
      },
      "execution_count": null,
      "outputs": [
        {
          "output_type": "stream",
          "name": "stderr",
          "text": [
            "WARNING:matplotlib.legend:No handles with labels found to put in legend.\n"
          ]
        },
        {
          "output_type": "display_data",
          "data": {
            "text/plain": [
              "<Figure size 720x720 with 1 Axes>"
            ],
            "image/png": "[encoded data removed]"
          },
          "metadata": {
            "needs_background": "light"
          }
        }
      ]
    },
    {
      "cell_type": "markdown",
      "source": [
        "Мы видим, что последние 6 векторов не дают вообще никакой информации, поэтому мы можем понизить размерность на 6."
      ],
      "metadata": {
        "id": "zBic5tsW_cdm"
      }
    },
    {
      "cell_type": "markdown",
      "source": [
        "# Понизим размерность до 42"
      ],
      "metadata": {
        "id": "eyQWpHr4_dUB"
      }
    },
    {
      "cell_type": "code",
      "source": [
        "scaled_data_train = pd.DataFrame(X_train_std)\n",
        "scaled_data_test = pd.DataFrame(X_test_std)"
      ],
      "metadata": {
        "id": "aI9IrL-C_fP8"
      },
      "execution_count": null,
      "outputs": []
    },
    {
      "cell_type": "code",
      "source": [
        "pca_train = PCA(n_components = 30)\n",
        "pca_test = PCA(n_components = 30)\n",
        "\n",
        "pca_train.fit(scaled_data_train)\n",
        "pca_test.fit(scaled_data_test)\n",
        "\n",
        "data_pca_train = pca_train.transform(scaled_data_train)\n",
        "data_pca_test = pca_train.transform(scaled_data_test)\n",
        "\n",
        "data_pca_train = pd.DataFrame(data_pca_train)\n",
        "data_pca_test = pd.DataFrame(data_pca_test)"
      ],
      "metadata": {
        "id": "bs09avGn_leo"
      },
      "execution_count": null,
      "outputs": []
    },
    {
      "cell_type": "code",
      "source": [
        "sns.heatmap(data_pca_train.corr())"
      ],
      "metadata": {
        "colab": {
          "base_uri": "https://localhost:8080/",
          "height": 287
        },
        "id": "FMeiTeMI_nMK",
        "outputId": "ea06c728-572d-4873-f7bd-45c414d5e22c"
      },
      "execution_count": null,
      "outputs": [
        {
          "output_type": "execute_result",
          "data": {
            "text/plain": [
              "<matplotlib.axes._subplots.AxesSubplot at 0x7fdfe0aa8880>"
            ]
          },
          "metadata": {},
          "execution_count": 46
        },
        {
          "output_type": "display_data",
          "data": {
            "text/plain": [
              "<Figure size 432x288 with 2 Axes>"
            ],
            "image/png": "[encoded data removed]"
          },
          "metadata": {
            "needs_background": "light"
          }
        }
      ]
    },
    {
      "cell_type": "code",
      "source": [
        "model = KMeans(n_clusters=3, random_state=10)\n",
        "model.fit(data_pca_train)\n",
        "\n",
        "pred_labeles = model.predict(data_pca_test)\n",
        "rand_s = rand_score(Y_test, pred_labeles)\n",
        "print('RAND: ', rand_s)"
      ],
      "metadata": {
        "colab": {
          "base_uri": "https://localhost:8080/"
        },
        "id": "Itj1fmLF_o1H",
        "outputId": "814d25bf-eea5-4e16-f91e-6afd8e98f8d5"
      },
      "execution_count": null,
      "outputs": [
        {
          "output_type": "stream",
          "name": "stdout",
          "text": [
            "RAND:  0.5802082688647885\n"
          ]
        }
      ]
    },
    {
      "cell_type": "markdown",
      "source": [
        "# Теперь попробуем использовать Random forest"
      ],
      "metadata": {
        "id": "Fpj8dsAF_usN"
      }
    },
    {
      "cell_type": "markdown",
      "source": [
        "Для выборки полной размерности"
      ],
      "metadata": {
        "id": "QbVTzsuy_tfN"
      }
    },
    {
      "cell_type": "code",
      "source": [
        "from types import new_class\n",
        "from sklearn.ensemble import RandomForestClassifier\n",
        "\n",
        "rfc = RandomForestClassifier(random_state=5)\n",
        "rfc.fit(X_train, Y_train)"
      ],
      "metadata": {
        "colab": {
          "base_uri": "https://localhost:8080/"
        },
        "id": "NRGNDKJm_0Qc",
        "outputId": "889de4a1-30aa-4800-b7ae-e83278c335e1"
      },
      "execution_count": null,
      "outputs": [
        {
          "output_type": "execute_result",
          "data": {
            "text/plain": [
              "RandomForestClassifier(random_state=5)"
            ]
          },
          "metadata": {},
          "execution_count": 48
        }
      ]
    },
    {
      "cell_type": "code",
      "source": [
        "pred_labeles = rfc.predict(X_test)\n",
        "rand_s = rand_score(Y_test, pred_labeles)\n",
        "print('Оценка RAND: ', rand_s)"
      ],
      "metadata": {
        "colab": {
          "base_uri": "https://localhost:8080/"
        },
        "id": "UT-jRcKE_yCB",
        "outputId": "40e1f26a-c81a-403a-8af2-c2c60e42f8bc"
      },
      "execution_count": null,
      "outputs": [
        {
          "output_type": "stream",
          "name": "stdout",
          "text": [
            "Оценка RAND:  0.7163836886339477\n"
          ]
        }
      ]
    },
    {
      "cell_type": "code",
      "source": [
        "from sklearn.metrics import plot_confusion_matrix\n",
        "plot_confusion_matrix(rfc, X_test, Y_test, cmap=plt.cm.Blues)\n",
        "pass"
      ],
      "metadata": {
        "colab": {
          "base_uri": "https://localhost:8080/",
          "height": 336
        },
        "id": "yJQWs71c_2wJ",
        "outputId": "46609050-0482-43fe-8bc9-4050a5e2e6f1"
      },
      "execution_count": null,
      "outputs": [
        {
          "output_type": "stream",
          "name": "stderr",
          "text": [
            "/usr/local/lib/python3.8/dist-packages/sklearn/utils/deprecation.py:87: FutureWarning: Function plot_confusion_matrix is deprecated; Function `plot_confusion_matrix` is deprecated in 1.0 and will be removed in 1.2. Use one of the class methods: ConfusionMatrixDisplay.from_predictions or ConfusionMatrixDisplay.from_estimator.\n",
            "  warnings.warn(msg, category=FutureWarning)\n"
          ]
        },
        {
          "output_type": "display_data",
          "data": {
            "text/plain": [
              "<Figure size 432x288 with 2 Axes>"
            ],
            "image/png": "[encoded data removed]"
          },
          "metadata": {
            "needs_background": "light"
          }
        }
      ]
    },
    {
      "cell_type": "code",
      "source": [
        "rfc = RandomForestClassifier(random_state=5)\n",
        "rfc.fit(data_pca_train, Y_train)"
      ],
      "metadata": {
        "colab": {
          "base_uri": "https://localhost:8080/"
        },
        "id": "XwClB22P_4TN",
        "outputId": "90b3430c-2aef-4496-d208-ccd0c1b35ca7"
      },
      "execution_count": null,
      "outputs": [
        {
          "output_type": "execute_result",
          "data": {
            "text/plain": [
              "RandomForestClassifier(random_state=5)"
            ]
          },
          "metadata": {},
          "execution_count": 51
        }
      ]
    },
    {
      "cell_type": "code",
      "source": [
        "from sklearn.metrics import plot_confusion_matrix\n",
        "plot_confusion_matrix(rfc, data_pca_test, Y_test, cmap=plt.cm.Blues)\n",
        "pass"
      ],
      "metadata": {
        "colab": {
          "base_uri": "https://localhost:8080/",
          "height": 336
        },
        "id": "x6EI4ZRrYCUQ",
        "outputId": "612c56a6-ff1d-4e9b-8647-51e33c38efca"
      },
      "execution_count": null,
      "outputs": [
        {
          "output_type": "stream",
          "name": "stderr",
          "text": [
            "/usr/local/lib/python3.8/dist-packages/sklearn/utils/deprecation.py:87: FutureWarning: Function plot_confusion_matrix is deprecated; Function `plot_confusion_matrix` is deprecated in 1.0 and will be removed in 1.2. Use one of the class methods: ConfusionMatrixDisplay.from_predictions or ConfusionMatrixDisplay.from_estimator.\n",
            "  warnings.warn(msg, category=FutureWarning)\n"
          ]
        },
        {
          "output_type": "display_data",
          "data": {
            "text/plain": [
              "<Figure size 432x288 with 2 Axes>"
            ],
            "image/png": "[encoded data removed]"
          },
          "metadata": {
            "needs_background": "light"
          }
        }
      ]
    },
    {
      "cell_type": "code",
      "source": [
        "pred_labeles = rfc.predict(data_pca_test)\n",
        "rand_s = rand_score(Y_test, pred_labeles)\n",
        "print('Оценка RAND: ', rand_s)\n",
        "\n",
        "# from sklearn.tree import plot_tree\n",
        "\n",
        "# plt.figure(figsize=[30, 20])\n",
        "# plot_tree(dtc, filled=True)"
      ],
      "metadata": {
        "colab": {
          "base_uri": "https://localhost:8080/"
        },
        "id": "9q2zRjkt_6RD",
        "outputId": "69468a54-a67b-41cd-fa7e-8ef15463de1d"
      },
      "execution_count": null,
      "outputs": [
        {
          "output_type": "stream",
          "name": "stdout",
          "text": [
            "Оценка RAND:  0.6075859265733705\n"
          ]
        }
      ]
    },
    {
      "cell_type": "markdown",
      "source": [
        "Найдем оптимальное значение гиперпараметра n_estimators (количество деревьев)"
      ],
      "metadata": {
        "id": "PxFygmQlYaiP"
      }
    },
    {
      "cell_type": "code",
      "source": [
        "n_estimators_arr = [i for i in range(1, 10)] + [i for i in range(10, 210, 10)]\n",
        "test_err = []\n",
        "train_err = []\n",
        "for n in n_estimators_arr:\n",
        "    rfc_model = RandomForestClassifier(n_estimators = n)\n",
        "    rfc_model.fit(X_train, Y_train)\n",
        "\n",
        "    y_train_pred = rfc_model.predict(X_train)\n",
        "    y_test_pred = rfc_model.predict(X_test)\n",
        "    train_err.append(np.mean(Y_train != y_train_pred))\n",
        "    test_err.append(np.mean(Y_test != y_test_pred))\n",
        "    print('n:', n)"
      ],
      "metadata": {
        "colab": {
          "base_uri": "https://localhost:8080/"
        },
        "id": "w1VKspyuXfFm",
        "outputId": "abb08835-5d1f-4380-e0f9-96c98347ebce"
      },
      "execution_count": null,
      "outputs": [
        {
          "output_type": "stream",
          "name": "stdout",
          "text": [
            "n: 1\n",
            "n: 2\n",
            "n: 3\n",
            "n: 4\n",
            "n: 5\n",
            "n: 6\n",
            "n: 7\n",
            "n: 8\n",
            "n: 9\n",
            "n: 10\n",
            "n: 20\n",
            "n: 30\n",
            "n: 40\n",
            "n: 50\n",
            "n: 60\n",
            "n: 70\n",
            "n: 80\n",
            "n: 90\n",
            "n: 100\n",
            "n: 110\n",
            "n: 120\n",
            "n: 130\n",
            "n: 140\n",
            "n: 150\n",
            "n: 160\n",
            "n: 170\n",
            "n: 180\n",
            "n: 190\n",
            "n: 200\n"
          ]
        }
      ]
    },
    {
      "cell_type": "code",
      "source": [
        "plt.plot(n_estimators_arr, train_err, 'r-o', label = 'train')\n",
        "plt.plot(n_estimators_arr, test_err, 'b-o', label = 'test')\n",
        "plt.title('Error vs. n_estimators')\n",
        "plt.xlabel('n_estimators')\n",
        "plt.ylabel('error')\n",
        "plt.legend()\n",
        "pass"
      ],
      "metadata": {
        "colab": {
          "base_uri": "https://localhost:8080/",
          "height": 296
        },
        "id": "q5yQQFGUZH_A",
        "outputId": "c1bbc444-0e42-45ec-898d-f3725c5df263"
      },
      "execution_count": null,
      "outputs": [
        {
          "output_type": "display_data",
          "data": {
            "text/plain": [
              "<Figure size 432x288 with 1 Axes>"
            ],
            "image/png": "[encoded data removed]"
          },
          "metadata": {
            "needs_background": "light"
          }
        }
      ]
    },
    {
      "cell_type": "code",
      "source": [
        "min_train_err = np.min(train_err)\n",
        "min_test_err = np.min(test_err)\n",
        "print(min_train_err, min_test_err)"
      ],
      "metadata": {
        "colab": {
          "base_uri": "https://localhost:8080/"
        },
        "id": "gYxd_XamcNjE",
        "outputId": "b3853159-0fd3-4b37-ee03-1b4934e2dcd7"
      },
      "execution_count": null,
      "outputs": [
        {
          "output_type": "stream",
          "name": "stdout",
          "text": [
            "0.0 0.22044601206053022\n"
          ]
        }
      ]
    },
    {
      "cell_type": "markdown",
      "source": [
        "Теперь рассмотрим зависимость от параметра max_depth (максимальная глубина дерева)"
      ],
      "metadata": {
        "id": "ttOEoWHGhX0B"
      }
    },
    {
      "cell_type": "code",
      "source": [
        "max_depth_arr = [i for i in range(1, 10)] + [i for i in range(10, 100, 10)]\n",
        "test_err = []\n",
        "train_err = []\n",
        "for depth in max_depth_arr:\n",
        "    rfc_model = RandomForestClassifier(max_depth = depth)\n",
        "    rfc_model.fit(X_train, Y_train)\n",
        "\n",
        "    y_train_pred = rfc_model.predict(X_train)\n",
        "    y_test_pred = rfc_model.predict(X_test)\n",
        "    train_err.append(np.mean(Y_train != y_train_pred))\n",
        "    test_err.append(np.mean(Y_test != y_test_pred))\n",
        "    print('depth:', depth)"
      ],
      "metadata": {
        "colab": {
          "base_uri": "https://localhost:8080/"
        },
        "id": "Frmvkk35gtIl",
        "outputId": "cac77290-7313-4b9b-9689-997aee83c6b9"
      },
      "execution_count": null,
      "outputs": [
        {
          "output_type": "stream",
          "name": "stdout",
          "text": [
            "depth: 1\n",
            "depth: 2\n",
            "depth: 3\n",
            "depth: 4\n",
            "depth: 5\n",
            "depth: 6\n",
            "depth: 7\n",
            "depth: 8\n",
            "depth: 9\n",
            "depth: 10\n",
            "depth: 20\n",
            "depth: 30\n",
            "depth: 40\n",
            "depth: 50\n",
            "depth: 60\n",
            "depth: 70\n",
            "depth: 80\n",
            "depth: 90\n"
          ]
        }
      ]
    },
    {
      "cell_type": "code",
      "source": [
        "plt.plot(max_depth_arr, train_err, 'r-o', label = 'train')\n",
        "plt.plot(max_depth_arr, test_err, 'b-o', label = 'test')\n",
        "plt.title('Error vs. max_depth')\n",
        "plt.xlabel('max_depth')\n",
        "plt.ylabel('error')\n",
        "plt.legend()\n",
        "pass"
      ],
      "metadata": {
        "colab": {
          "base_uri": "https://localhost:8080/",
          "height": 296
        },
        "id": "IQm6vyxohO0L",
        "outputId": "d93e24b6-1365-4628-bab5-40b49e5d8f28"
      },
      "execution_count": null,
      "outputs": [
        {
          "output_type": "display_data",
          "data": {
            "text/plain": [
              "<Figure size 432x288 with 1 Axes>"
            ],
            "image/png": "[encoded data removed]"
          },
          "metadata": {
            "needs_background": "light"
          }
        }
      ]
    },
    {
      "cell_type": "markdown",
      "source": [
        "мы видим, что оптимально взять максимальную глубину дерева равную ...\n"
      ],
      "metadata": {
        "id": "e-c1NcGsrqb2"
      }
    },
    {
      "cell_type": "markdown",
      "source": [
        "# Логистическая регрессия"
      ],
      "metadata": {
        "id": "FsqmRg7vskcT"
      }
    },
    {
      "cell_type": "code",
      "source": [
        "from sklearn.linear_model import LogisticRegression\n",
        "model_lr = LogisticRegression(max_iter=1000)\n",
        "model_lr.fit(X_train, Y_train)"
      ],
      "metadata": {
        "colab": {
          "base_uri": "https://localhost:8080/"
        },
        "id": "Ii3u7uR0r00Y",
        "outputId": "6cd79558-8e36-4c58-ff87-d97ce8c0cfde"
      },
      "execution_count": null,
      "outputs": [
        {
          "output_type": "execute_result",
          "data": {
            "text/plain": [
              "LogisticRegression(max_iter=1000)"
            ]
          },
          "metadata": {},
          "execution_count": 61
        }
      ]
    },
    {
      "cell_type": "code",
      "source": [
        "y_train_pred = model_lr.predict(X_train)\n",
        "y_test_pred = model_lr.predict(X_test)\n",
        "np.mean(Y_train != y_train_pred), np.mean(Y_test != y_test_pred)"
      ],
      "metadata": {
        "colab": {
          "base_uri": "https://localhost:8080/"
        },
        "id": "dL7785BqsQfq",
        "outputId": "2f525a43-cb04-40ac-ed3a-3de5402563dd"
      },
      "execution_count": null,
      "outputs": [
        {
          "output_type": "execute_result",
          "data": {
            "text/plain": [
              "(0.37956733846307017, 0.37552622596427354)"
            ]
          },
          "metadata": {},
          "execution_count": 62
        }
      ]
    },
    {
      "cell_type": "code",
      "source": [
        "pred_labeles = model_lr.predict(X_test)\n",
        "rand_s = rand_score(Y_test, pred_labeles)\n",
        "print('Оценка RAND: ', rand_s)"
      ],
      "metadata": {
        "colab": {
          "base_uri": "https://localhost:8080/"
        },
        "id": "C3rvw_Xqw5R-",
        "outputId": "1b34c866-a2f5-436a-d0f1-9d5132d21f42"
      },
      "execution_count": null,
      "outputs": [
        {
          "output_type": "stream",
          "name": "stdout",
          "text": [
            "Оценка RAND:  0.5890184548453621\n"
          ]
        }
      ]
    },
    {
      "cell_type": "markdown",
      "source": [
        "# Нейронная сеть"
      ],
      "metadata": {
        "id": "IuuYpOMgxHkv"
      }
    },
    {
      "cell_type": "code",
      "source": [
        "from sklearn.neural_network import MLPClassifier\n",
        "model_nn = MLPClassifier(hidden_layer_sizes = (40, 30), random_state = 42)\n",
        "model_nn.fit(X_train, Y_train)"
      ],
      "metadata": {
        "colab": {
          "base_uri": "https://localhost:8080/"
        },
        "id": "EmwbKsmCxHA9",
        "outputId": "deb0089f-4fd3-443c-c311-08a8008e0469"
      },
      "execution_count": null,
      "outputs": [
        {
          "output_type": "stream",
          "name": "stderr",
          "text": [
            "/usr/local/lib/python3.8/dist-packages/sklearn/neural_network/_multilayer_perceptron.py:692: ConvergenceWarning: Stochastic Optimizer: Maximum iterations (200) reached and the optimization hasn't converged yet.\n",
            "  warnings.warn(\n"
          ]
        },
        {
          "output_type": "execute_result",
          "data": {
            "text/plain": [
              "MLPClassifier(hidden_layer_sizes=(40, 30), random_state=42)"
            ]
          },
          "metadata": {},
          "execution_count": 69
        }
      ]
    },
    {
      "cell_type": "code",
      "source": [
        "y_train_pred = model_nn.predict(X_train)\n",
        "y_test_pred = model_nn.predict(X_test)\n",
        "np.mean(Y_train != y_train_pred), np.mean(Y_test != y_test_pred)"
      ],
      "metadata": {
        "colab": {
          "base_uri": "https://localhost:8080/"
        },
        "id": "2-7XTTVlxjmI",
        "outputId": "93ae78c7-2da2-43be-d28d-193fafae551b"
      },
      "execution_count": null,
      "outputs": [
        {
          "output_type": "execute_result",
          "data": {
            "text/plain": [
              "(0.2839181328137223, 0.32267607236318124)"
            ]
          },
          "metadata": {},
          "execution_count": 70
        }
      ]
    },
    {
      "cell_type": "markdown",
      "source": [
        "Подберем гиперпараметр alpha для нейронной сети"
      ],
      "metadata": {
        "id": "5_wb6_htziNP"
      }
    },
    {
      "cell_type": "code",
      "source": [
        "alpha_arr = np.logspace(-4, 5, 10)\n",
        "test_err = []\n",
        "train_err = []\n",
        "for alpha in alpha_arr:\n",
        "    mlp_model = MLPClassifier(hidden_layer_sizes = (40, 30), random_state = 42, alpha = alpha)\n",
        "    mlp_model.fit(X_train, Y_train)\n",
        "\n",
        "    y_train_pred = mlp_model.predict(X_train)\n",
        "    y_test_pred = mlp_model.predict(X_test)\n",
        "    train_err.append(np.mean(Y_train != y_train_pred))\n",
        "    test_err.append(np.mean(Y_test != y_test_pred))"
      ],
      "metadata": {
        "colab": {
          "base_uri": "https://localhost:8080/"
        },
        "id": "merjZbCWzm1w",
        "outputId": "2521831d-363a-4717-e7be-389d4ede4747"
      },
      "execution_count": null,
      "outputs": [
        {
          "output_type": "stream",
          "name": "stderr",
          "text": [
            "/usr/local/lib/python3.8/dist-packages/sklearn/neural_network/_multilayer_perceptron.py:692: ConvergenceWarning: Stochastic Optimizer: Maximum iterations (200) reached and the optimization hasn't converged yet.\n",
            "  warnings.warn(\n",
            "/usr/local/lib/python3.8/dist-packages/sklearn/neural_network/_multilayer_perceptron.py:692: ConvergenceWarning: Stochastic Optimizer: Maximum iterations (200) reached and the optimization hasn't converged yet.\n",
            "  warnings.warn(\n",
            "/usr/local/lib/python3.8/dist-packages/sklearn/neural_network/_multilayer_perceptron.py:692: ConvergenceWarning: Stochastic Optimizer: Maximum iterations (200) reached and the optimization hasn't converged yet.\n",
            "  warnings.warn(\n"
          ]
        }
      ]
    },
    {
      "cell_type": "code",
      "source": [
        "plt.semilogx(alpha_arr, train_err, 'r-o', label = 'train')\n",
        "plt.semilogx(alpha_arr, test_err, 'b-o', label = 'test')\n",
        "plt.xlim([np.max(alpha_arr), np.min(alpha_arr)])\n",
        "plt.title('Error vs. alpha')\n",
        "plt.xlabel('alpha')\n",
        "plt.ylabel('error')\n",
        "plt.legend()\n",
        "pass"
      ],
      "metadata": {
        "colab": {
          "base_uri": "https://localhost:8080/",
          "height": 299
        },
        "id": "9lEPsiCIznYp",
        "outputId": "c71d5d78-5067-4246-9a73-5ca9cb3ee19e"
      },
      "execution_count": null,
      "outputs": [
        {
          "output_type": "display_data",
          "data": {
            "text/plain": [
              "<Figure size 432x288 with 1 Axes>"
            ],
            "image/png": "[encoded data removed]"
          },
          "metadata": {
            "needs_background": "light"
          }
        }
      ]
    },
    {
      "cell_type": "code",
      "source": [
        "model_nn = MLPClassifier(hidden_layer_sizes = (40, 30), random_state = 42, alpha=0.1)\n",
        "model_nn.fit(X_train, Y_train)\n",
        "\n",
        "y_train_pred = model_nn.predict(X_train)\n",
        "y_test_pred = model_nn.predict(X_test)\n",
        "np.mean(Y_train != y_train_pred), np.mean(Y_test != y_test_pred)"
      ],
      "metadata": {
        "colab": {
          "base_uri": "https://localhost:8080/"
        },
        "id": "RqULNjQC2M3I",
        "outputId": "f9cd57d4-b873-4d56-da80-6a0a7ebe5ab3"
      },
      "execution_count": null,
      "outputs": [
        {
          "output_type": "execute_result",
          "data": {
            "text/plain": [
              "(0.3017110185040322, 0.32290362953692114)"
            ]
          },
          "metadata": {},
          "execution_count": 73
        }
      ]
    }
  ]
}